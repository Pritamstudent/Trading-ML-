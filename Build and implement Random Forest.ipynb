{
 "cells": [
  {
   "cell_type": "code",
   "execution_count": 165,
   "id": "a7c5c2c7",
   "metadata": {},
   "outputs": [
    {
     "name": "stdout",
     "output_type": "stream",
     "text": [
      "Requirement already satisfied: pandas in e:\\python\\envs\\tradingproject\\lib\\site-packages (1.3.0)\n",
      "Requirement already satisfied: numpy>=1.17.3 in e:\\python\\envs\\tradingproject\\lib\\site-packages (from pandas) (1.25.2)\n",
      "Requirement already satisfied: python-dateutil>=2.7.3 in e:\\python\\envs\\tradingproject\\lib\\site-packages (from pandas) (2.8.2)\n",
      "Requirement already satisfied: pytz>=2017.3 in e:\\python\\envs\\tradingproject\\lib\\site-packages (from pandas) (2023.3)\n",
      "Requirement already satisfied: six>=1.5 in e:\\python\\envs\\tradingproject\\lib\\site-packages (from python-dateutil>=2.7.3->pandas) (1.16.0)\n"
     ]
    }
   ],
   "source": [
    "!pip install pandas\n",
    "\n",
    "import pandas as pd\n",
    "import numpy as np\n",
    "import matplotlib.pyplot as plt\n",
    "%matplotlib inline"
   ]
  },
  {
   "cell_type": "code",
   "execution_count": 166,
   "id": "b88aa468",
   "metadata": {},
   "outputs": [],
   "source": [
    "from zipline.data.data_portal import DataPortal\n",
    "from zipline.data import bundles\n",
    "from zipline.utils.calendar_utils import register_calendar, get_calendar\n"
   ]
  },
  {
   "cell_type": "code",
   "execution_count": 167,
   "id": "89105e3a",
   "metadata": {},
   "outputs": [],
   "source": [
    "bundle_data = bundles.load('quandl')"
   ]
  },
  {
   "cell_type": "code",
   "execution_count": 168,
   "id": "f46701bb",
   "metadata": {},
   "outputs": [],
   "source": [
    "end_date = pd.Timestamp('2019-01-01', tz = \"UTC\")"
   ]
  },
  {
   "cell_type": "code",
   "execution_count": 169,
   "id": "c83f99a0",
   "metadata": {},
   "outputs": [
    {
     "data": {
      "text/plain": [
       "Timestamp('1990-01-02 00:00:00')"
      ]
     },
     "execution_count": 169,
     "metadata": {},
     "output_type": "execute_result"
    }
   ],
   "source": [
    "bundle_data.equity_daily_bar_reader.first_trading_day"
   ]
  },
  {
   "cell_type": "code",
   "execution_count": 170,
   "id": "f222a846",
   "metadata": {},
   "outputs": [
    {
     "data": {
      "text/plain": [
       "zipline.data.bundles.core.BundleData"
      ]
     },
     "execution_count": 170,
     "metadata": {},
     "output_type": "execute_result"
    }
   ],
   "source": [
    "type(bundle_data)"
   ]
  },
  {
   "cell_type": "code",
   "execution_count": 171,
   "id": "5e8e447c",
   "metadata": {},
   "outputs": [
    {
     "data": {
      "text/plain": [
       "BundleData(asset_finder=<zipline.assets.assets.AssetFinder object at 0x0000025CFD7E27F0>, equity_minute_bar_reader=<zipline.data.bcolz_minute_bars.BcolzMinuteBarReader object at 0x0000025CFD7522E0>, equity_daily_bar_reader=<zipline.data.bcolz_daily_bars.BcolzDailyBarReader object at 0x0000025CFD7E2490>, adjustment_reader=<zipline.data.adjustments.SQLiteAdjustmentReader object at 0x0000025CFDBDAA00>)"
      ]
     },
     "execution_count": 171,
     "metadata": {},
     "output_type": "execute_result"
    }
   ],
   "source": [
    "bundle_data"
   ]
  },
  {
   "cell_type": "code",
   "execution_count": 172,
   "id": "ee0cd3be",
   "metadata": {},
   "outputs": [],
   "source": [
    "# Set the daily frequency\n",
    "data_por = DataPortal(\n",
    "    asset_finder = bundle_data.asset_finder,\n",
    "    trading_calendar = get_calendar(\"NYSE\"),\n",
    "    first_trading_day = bundle_data.equity_daily_bar_reader.first_trading_day,\n",
    "    equity_daily_reader = bundle_data.equity_daily_bar_reader\n",
    ")"
   ]
  },
  {
   "cell_type": "code",
   "execution_count": 173,
   "id": "2105c139",
   "metadata": {},
   "outputs": [],
   "source": [
    "TSLA = data_por.asset_finder.lookup_symbol(\n",
    "    \"TSLA\",\n",
    "    as_of_date = None\n",
    ")"
   ]
  },
  {
   "cell_type": "code",
   "execution_count": 174,
   "id": "d7fcba64",
   "metadata": {},
   "outputs": [],
   "source": [
    "df = data_por.get_history_window(\n",
    "    assets = [TSLA],\n",
    "    end_dt = end_date,\n",
    "    bar_count = 5000, #5000 trading days data is used\n",
    "    frequency = '1d',\n",
    "    data_frequency = 'daily',\n",
    "    field = 'close'  # We will be using more of the close values to do prediction\n",
    "\n",
    ")"
   ]
  },
  {
   "cell_type": "code",
   "execution_count": 175,
   "id": "d9155bf9",
   "metadata": {},
   "outputs": [
    {
     "data": {
      "text/html": [
       "<div>\n",
       "<style scoped>\n",
       "    .dataframe tbody tr th:only-of-type {\n",
       "        vertical-align: middle;\n",
       "    }\n",
       "\n",
       "    .dataframe tbody tr th {\n",
       "        vertical-align: top;\n",
       "    }\n",
       "\n",
       "    .dataframe thead th {\n",
       "        text-align: right;\n",
       "    }\n",
       "</style>\n",
       "<table border=\"1\" class=\"dataframe\">\n",
       "  <thead>\n",
       "    <tr style=\"text-align: right;\">\n",
       "      <th></th>\n",
       "      <th>Equity(2862 [TSLA])</th>\n",
       "    </tr>\n",
       "  </thead>\n",
       "  <tbody>\n",
       "    <tr>\n",
       "      <th>1999-02-19</th>\n",
       "      <td>NaN</td>\n",
       "    </tr>\n",
       "    <tr>\n",
       "      <th>1999-02-22</th>\n",
       "      <td>NaN</td>\n",
       "    </tr>\n",
       "    <tr>\n",
       "      <th>1999-02-23</th>\n",
       "      <td>NaN</td>\n",
       "    </tr>\n",
       "    <tr>\n",
       "      <th>1999-02-24</th>\n",
       "      <td>NaN</td>\n",
       "    </tr>\n",
       "    <tr>\n",
       "      <th>1999-02-25</th>\n",
       "      <td>NaN</td>\n",
       "    </tr>\n",
       "  </tbody>\n",
       "</table>\n",
       "</div>"
      ],
      "text/plain": [
       "            Equity(2862 [TSLA])\n",
       "1999-02-19                  NaN\n",
       "1999-02-22                  NaN\n",
       "1999-02-23                  NaN\n",
       "1999-02-24                  NaN\n",
       "1999-02-25                  NaN"
      ]
     },
     "execution_count": 175,
     "metadata": {},
     "output_type": "execute_result"
    }
   ],
   "source": [
    "df.head()"
   ]
  },
  {
   "cell_type": "code",
   "execution_count": 176,
   "id": "f8869b49",
   "metadata": {},
   "outputs": [
    {
     "data": {
      "text/html": [
       "<div>\n",
       "<style scoped>\n",
       "    .dataframe tbody tr th:only-of-type {\n",
       "        vertical-align: middle;\n",
       "    }\n",
       "\n",
       "    .dataframe tbody tr th {\n",
       "        vertical-align: top;\n",
       "    }\n",
       "\n",
       "    .dataframe thead th {\n",
       "        text-align: right;\n",
       "    }\n",
       "</style>\n",
       "<table border=\"1\" class=\"dataframe\">\n",
       "  <thead>\n",
       "    <tr style=\"text-align: right;\">\n",
       "      <th></th>\n",
       "      <th>Equity(2862 [TSLA])</th>\n",
       "    </tr>\n",
       "  </thead>\n",
       "  <tbody>\n",
       "    <tr>\n",
       "      <th>count</th>\n",
       "      <td>1949.000000</td>\n",
       "    </tr>\n",
       "    <tr>\n",
       "      <th>mean</th>\n",
       "      <td>158.641131</td>\n",
       "    </tr>\n",
       "    <tr>\n",
       "      <th>std</th>\n",
       "      <td>111.041316</td>\n",
       "    </tr>\n",
       "    <tr>\n",
       "      <th>min</th>\n",
       "      <td>15.800000</td>\n",
       "    </tr>\n",
       "    <tr>\n",
       "      <th>25%</th>\n",
       "      <td>31.600000</td>\n",
       "    </tr>\n",
       "    <tr>\n",
       "      <th>50%</th>\n",
       "      <td>192.690000</td>\n",
       "    </tr>\n",
       "    <tr>\n",
       "      <th>75%</th>\n",
       "      <td>240.240000</td>\n",
       "    </tr>\n",
       "    <tr>\n",
       "      <th>max</th>\n",
       "      <td>385.000000</td>\n",
       "    </tr>\n",
       "  </tbody>\n",
       "</table>\n",
       "</div>"
      ],
      "text/plain": [
       "       Equity(2862 [TSLA])\n",
       "count          1949.000000\n",
       "mean            158.641131\n",
       "std             111.041316\n",
       "min              15.800000\n",
       "25%              31.600000\n",
       "50%             192.690000\n",
       "75%             240.240000\n",
       "max             385.000000"
      ]
     },
     "execution_count": 176,
     "metadata": {},
     "output_type": "execute_result"
    }
   ],
   "source": [
    "df.describe()"
   ]
  },
  {
   "cell_type": "code",
   "execution_count": 177,
   "id": "d7fde7d8",
   "metadata": {},
   "outputs": [
    {
     "name": "stdout",
     "output_type": "stream",
     "text": [
      "<class 'pandas.core.frame.DataFrame'>\n",
      "DatetimeIndex: 5000 entries, 1999-02-19 to 2019-01-02\n",
      "Freq: C\n",
      "Data columns (total 1 columns):\n",
      " #   Column               Non-Null Count  Dtype  \n",
      "---  ------               --------------  -----  \n",
      " 0   Equity(2862 [TSLA])  1949 non-null   float64\n",
      "dtypes: float64(1)\n",
      "memory usage: 78.1 KB\n"
     ]
    }
   ],
   "source": [
    "df.info()"
   ]
  },
  {
   "cell_type": "code",
   "execution_count": 178,
   "id": "db0d940a",
   "metadata": {},
   "outputs": [],
   "source": [
    "# Let us drop the NaN values\n",
    "df = df.dropna()"
   ]
  },
  {
   "cell_type": "code",
   "execution_count": 179,
   "id": "355e7834",
   "metadata": {},
   "outputs": [
    {
     "data": {
      "text/plain": [
       "Equity(2862 [TSLA])    0\n",
       "dtype: int64"
      ]
     },
     "execution_count": 179,
     "metadata": {},
     "output_type": "execute_result"
    }
   ],
   "source": [
    "df.isna().sum()"
   ]
  },
  {
   "cell_type": "code",
   "execution_count": 180,
   "id": "8bab9965",
   "metadata": {},
   "outputs": [],
   "source": [
    "df.index = pd.DatetimeIndex(df.index)"
   ]
  },
  {
   "cell_type": "code",
   "execution_count": 181,
   "id": "08ea25c0",
   "metadata": {},
   "outputs": [
    {
     "data": {
      "text/html": [
       "<div>\n",
       "<style scoped>\n",
       "    .dataframe tbody tr th:only-of-type {\n",
       "        vertical-align: middle;\n",
       "    }\n",
       "\n",
       "    .dataframe tbody tr th {\n",
       "        vertical-align: top;\n",
       "    }\n",
       "\n",
       "    .dataframe thead th {\n",
       "        text-align: right;\n",
       "    }\n",
       "</style>\n",
       "<table border=\"1\" class=\"dataframe\">\n",
       "  <thead>\n",
       "    <tr style=\"text-align: right;\">\n",
       "      <th></th>\n",
       "      <th>Equity(2862 [TSLA])</th>\n",
       "    </tr>\n",
       "  </thead>\n",
       "  <tbody>\n",
       "    <tr>\n",
       "      <th>2010-06-29</th>\n",
       "      <td>23.89</td>\n",
       "    </tr>\n",
       "    <tr>\n",
       "      <th>2010-06-30</th>\n",
       "      <td>23.83</td>\n",
       "    </tr>\n",
       "    <tr>\n",
       "      <th>2010-07-01</th>\n",
       "      <td>21.96</td>\n",
       "    </tr>\n",
       "    <tr>\n",
       "      <th>2010-07-02</th>\n",
       "      <td>19.20</td>\n",
       "    </tr>\n",
       "    <tr>\n",
       "      <th>2010-07-06</th>\n",
       "      <td>16.11</td>\n",
       "    </tr>\n",
       "  </tbody>\n",
       "</table>\n",
       "</div>"
      ],
      "text/plain": [
       "            Equity(2862 [TSLA])\n",
       "2010-06-29                23.89\n",
       "2010-06-30                23.83\n",
       "2010-07-01                21.96\n",
       "2010-07-02                19.20\n",
       "2010-07-06                16.11"
      ]
     },
     "execution_count": 181,
     "metadata": {},
     "output_type": "execute_result"
    }
   ],
   "source": [
    "df.head()"
   ]
  },
  {
   "cell_type": "code",
   "execution_count": 182,
   "id": "a0bb23a3",
   "metadata": {},
   "outputs": [
    {
     "data": {
      "text/plain": [
       "<bound method DataFrame.count of             Equity(2862 [TSLA])\n",
       "2010-06-29                23.89\n",
       "2010-06-30                23.83\n",
       "2010-07-01                21.96\n",
       "2010-07-02                19.20\n",
       "2010-07-06                16.11\n",
       "...                         ...\n",
       "2018-03-21               316.53\n",
       "2018-03-22               309.10\n",
       "2018-03-23               301.54\n",
       "2018-03-26               304.18\n",
       "2018-03-27               279.18\n",
       "\n",
       "[1949 rows x 1 columns]>"
      ]
     },
     "execution_count": 182,
     "metadata": {},
     "output_type": "execute_result"
    }
   ],
   "source": [
    "df.count"
   ]
  },
  {
   "cell_type": "code",
   "execution_count": 183,
   "id": "1087b9ad",
   "metadata": {},
   "outputs": [
    {
     "data": {
      "text/plain": [
       "<bound method DataFrame.value_counts of             Equity(2862 [TSLA])\n",
       "2010-06-29                23.89\n",
       "2010-06-30                23.83\n",
       "2010-07-01                21.96\n",
       "2010-07-02                19.20\n",
       "2010-07-06                16.11\n",
       "...                         ...\n",
       "2018-03-21               316.53\n",
       "2018-03-22               309.10\n",
       "2018-03-23               301.54\n",
       "2018-03-26               304.18\n",
       "2018-03-27               279.18\n",
       "\n",
       "[1949 rows x 1 columns]>"
      ]
     },
     "execution_count": 183,
     "metadata": {},
     "output_type": "execute_result"
    }
   ],
   "source": [
    "df.value_counts"
   ]
  },
  {
   "cell_type": "code",
   "execution_count": 184,
   "id": "2d9d8cef",
   "metadata": {},
   "outputs": [
    {
     "data": {
      "text/plain": [
       "list[Equity(2862 [TSLA])]"
      ]
     },
     "execution_count": 184,
     "metadata": {},
     "output_type": "execute_result"
    }
   ],
   "source": [
    "list[df.columns[0]]"
   ]
  },
  {
   "cell_type": "code",
   "execution_count": 185,
   "id": "27a9d36e",
   "metadata": {},
   "outputs": [],
   "source": [
    "df['close'] = df[list[df.columns[0]]]"
   ]
  },
  {
   "cell_type": "code",
   "execution_count": 186,
   "id": "6c1b7f4f",
   "metadata": {},
   "outputs": [
    {
     "data": {
      "text/html": [
       "<div>\n",
       "<style scoped>\n",
       "    .dataframe tbody tr th:only-of-type {\n",
       "        vertical-align: middle;\n",
       "    }\n",
       "\n",
       "    .dataframe tbody tr th {\n",
       "        vertical-align: top;\n",
       "    }\n",
       "\n",
       "    .dataframe thead th {\n",
       "        text-align: right;\n",
       "    }\n",
       "</style>\n",
       "<table border=\"1\" class=\"dataframe\">\n",
       "  <thead>\n",
       "    <tr style=\"text-align: right;\">\n",
       "      <th></th>\n",
       "      <th>Equity(2862 [TSLA])</th>\n",
       "      <th>close</th>\n",
       "    </tr>\n",
       "  </thead>\n",
       "  <tbody>\n",
       "    <tr>\n",
       "      <th>2010-06-29</th>\n",
       "      <td>23.89</td>\n",
       "      <td>23.89</td>\n",
       "    </tr>\n",
       "    <tr>\n",
       "      <th>2010-06-30</th>\n",
       "      <td>23.83</td>\n",
       "      <td>23.83</td>\n",
       "    </tr>\n",
       "    <tr>\n",
       "      <th>2010-07-01</th>\n",
       "      <td>21.96</td>\n",
       "      <td>21.96</td>\n",
       "    </tr>\n",
       "    <tr>\n",
       "      <th>2010-07-02</th>\n",
       "      <td>19.20</td>\n",
       "      <td>19.20</td>\n",
       "    </tr>\n",
       "    <tr>\n",
       "      <th>2010-07-06</th>\n",
       "      <td>16.11</td>\n",
       "      <td>16.11</td>\n",
       "    </tr>\n",
       "  </tbody>\n",
       "</table>\n",
       "</div>"
      ],
      "text/plain": [
       "            Equity(2862 [TSLA])  close\n",
       "2010-06-29                23.89  23.89\n",
       "2010-06-30                23.83  23.83\n",
       "2010-07-01                21.96  21.96\n",
       "2010-07-02                19.20  19.20\n",
       "2010-07-06                16.11  16.11"
      ]
     },
     "execution_count": 186,
     "metadata": {},
     "output_type": "execute_result"
    }
   ],
   "source": [
    "df.head()"
   ]
  },
  {
   "cell_type": "code",
   "execution_count": 187,
   "id": "f9551b73",
   "metadata": {},
   "outputs": [],
   "source": [
    "df.drop(columns = [list(df.columns)[0]], inplace  = True, axis = 0)"
   ]
  },
  {
   "cell_type": "code",
   "execution_count": 188,
   "id": "f2e089c2",
   "metadata": {},
   "outputs": [
    {
     "data": {
      "text/html": [
       "<div>\n",
       "<style scoped>\n",
       "    .dataframe tbody tr th:only-of-type {\n",
       "        vertical-align: middle;\n",
       "    }\n",
       "\n",
       "    .dataframe tbody tr th {\n",
       "        vertical-align: top;\n",
       "    }\n",
       "\n",
       "    .dataframe thead th {\n",
       "        text-align: right;\n",
       "    }\n",
       "</style>\n",
       "<table border=\"1\" class=\"dataframe\">\n",
       "  <thead>\n",
       "    <tr style=\"text-align: right;\">\n",
       "      <th></th>\n",
       "      <th>close</th>\n",
       "    </tr>\n",
       "  </thead>\n",
       "  <tbody>\n",
       "    <tr>\n",
       "      <th>2010-06-29</th>\n",
       "      <td>23.89</td>\n",
       "    </tr>\n",
       "    <tr>\n",
       "      <th>2010-06-30</th>\n",
       "      <td>23.83</td>\n",
       "    </tr>\n",
       "    <tr>\n",
       "      <th>2010-07-01</th>\n",
       "      <td>21.96</td>\n",
       "    </tr>\n",
       "    <tr>\n",
       "      <th>2010-07-02</th>\n",
       "      <td>19.20</td>\n",
       "    </tr>\n",
       "    <tr>\n",
       "      <th>2010-07-06</th>\n",
       "      <td>16.11</td>\n",
       "    </tr>\n",
       "  </tbody>\n",
       "</table>\n",
       "</div>"
      ],
      "text/plain": [
       "            close\n",
       "2010-06-29  23.89\n",
       "2010-06-30  23.83\n",
       "2010-07-01  21.96\n",
       "2010-07-02  19.20\n",
       "2010-07-06  16.11"
      ]
     },
     "execution_count": 188,
     "metadata": {},
     "output_type": "execute_result"
    }
   ],
   "source": [
    "df.head()"
   ]
  },
  {
   "cell_type": "code",
   "execution_count": 189,
   "id": "356241bd",
   "metadata": {},
   "outputs": [
    {
     "name": "stderr",
     "output_type": "stream",
     "text": [
      "No artists with labels found to put in legend.  Note that artists whose label start with an underscore are ignored when legend() is called with no argument.\n"
     ]
    },
    {
     "data": {
      "image/png": "[encoded data removed]",
      "text/plain": [
       "<Figure size 1000x1000 with 1 Axes>"
      ]
     },
     "metadata": {},
     "output_type": "display_data"
    }
   ],
   "source": [
    "# Let us plot the data\n",
    "from matplotlib.dates import MonthLocator, date2num, DateFormatter\n",
    "\n",
    "fig, ax = plt.subplots()\n",
    "fig.subplots_adjust(bottom = 0.3)\n",
    "\n",
    "fig.set_figwidth(10)\n",
    "fig.set_figheight(10)\n",
    "\n",
    "ax.plot(df.index, df.close)\n",
    "\n",
    "lctr = MonthLocator() # For eevry month\n",
    "frmt = DateFormatter('%b')\n",
    "\n",
    "ax.xaxis.set_major_locator(lctr)\n",
    "ax.xaxis.set_major_formatter(frmt)\n",
    "\n",
    "ax.legend()\n",
    "\n",
    "plt.xticks(rotation = 70)\n",
    "plt.tight_layout()\n",
    "plt.show()"
   ]
  },
  {
   "cell_type": "code",
   "execution_count": 190,
   "id": "7cb76f28",
   "metadata": {},
   "outputs": [],
   "source": [
    "df['1d'] = df.shift(-1)  # We copy the values of the next row into the current one"
   ]
  },
  {
   "cell_type": "code",
   "execution_count": 191,
   "id": "47fb8508",
   "metadata": {},
   "outputs": [
    {
     "data": {
      "text/html": [
       "<div>\n",
       "<style scoped>\n",
       "    .dataframe tbody tr th:only-of-type {\n",
       "        vertical-align: middle;\n",
       "    }\n",
       "\n",
       "    .dataframe tbody tr th {\n",
       "        vertical-align: top;\n",
       "    }\n",
       "\n",
       "    .dataframe thead th {\n",
       "        text-align: right;\n",
       "    }\n",
       "</style>\n",
       "<table border=\"1\" class=\"dataframe\">\n",
       "  <thead>\n",
       "    <tr style=\"text-align: right;\">\n",
       "      <th></th>\n",
       "      <th>close</th>\n",
       "      <th>1d</th>\n",
       "    </tr>\n",
       "  </thead>\n",
       "  <tbody>\n",
       "    <tr>\n",
       "      <th>2010-06-29</th>\n",
       "      <td>23.89</td>\n",
       "      <td>23.83</td>\n",
       "    </tr>\n",
       "    <tr>\n",
       "      <th>2010-06-30</th>\n",
       "      <td>23.83</td>\n",
       "      <td>21.96</td>\n",
       "    </tr>\n",
       "    <tr>\n",
       "      <th>2010-07-01</th>\n",
       "      <td>21.96</td>\n",
       "      <td>19.20</td>\n",
       "    </tr>\n",
       "    <tr>\n",
       "      <th>2010-07-02</th>\n",
       "      <td>19.20</td>\n",
       "      <td>16.11</td>\n",
       "    </tr>\n",
       "    <tr>\n",
       "      <th>2010-07-06</th>\n",
       "      <td>16.11</td>\n",
       "      <td>15.80</td>\n",
       "    </tr>\n",
       "  </tbody>\n",
       "</table>\n",
       "</div>"
      ],
      "text/plain": [
       "            close     1d\n",
       "2010-06-29  23.89  23.83\n",
       "2010-06-30  23.83  21.96\n",
       "2010-07-01  21.96  19.20\n",
       "2010-07-02  19.20  16.11\n",
       "2010-07-06  16.11  15.80"
      ]
     },
     "execution_count": 191,
     "metadata": {},
     "output_type": "execute_result"
    }
   ],
   "source": [
    "df.head()"
   ]
  },
  {
   "cell_type": "code",
   "execution_count": 192,
   "id": "b3535c14",
   "metadata": {},
   "outputs": [
    {
     "data": {
      "text/html": [
       "<div>\n",
       "<style scoped>\n",
       "    .dataframe tbody tr th:only-of-type {\n",
       "        vertical-align: middle;\n",
       "    }\n",
       "\n",
       "    .dataframe tbody tr th {\n",
       "        vertical-align: top;\n",
       "    }\n",
       "\n",
       "    .dataframe thead th {\n",
       "        text-align: right;\n",
       "    }\n",
       "</style>\n",
       "<table border=\"1\" class=\"dataframe\">\n",
       "  <thead>\n",
       "    <tr style=\"text-align: right;\">\n",
       "      <th></th>\n",
       "      <th>close</th>\n",
       "      <th>1d</th>\n",
       "    </tr>\n",
       "  </thead>\n",
       "  <tbody>\n",
       "    <tr>\n",
       "      <th>2018-03-21</th>\n",
       "      <td>316.53</td>\n",
       "      <td>309.10</td>\n",
       "    </tr>\n",
       "    <tr>\n",
       "      <th>2018-03-22</th>\n",
       "      <td>309.10</td>\n",
       "      <td>301.54</td>\n",
       "    </tr>\n",
       "    <tr>\n",
       "      <th>2018-03-23</th>\n",
       "      <td>301.54</td>\n",
       "      <td>304.18</td>\n",
       "    </tr>\n",
       "    <tr>\n",
       "      <th>2018-03-26</th>\n",
       "      <td>304.18</td>\n",
       "      <td>279.18</td>\n",
       "    </tr>\n",
       "    <tr>\n",
       "      <th>2018-03-27</th>\n",
       "      <td>279.18</td>\n",
       "      <td>NaN</td>\n",
       "    </tr>\n",
       "  </tbody>\n",
       "</table>\n",
       "</div>"
      ],
      "text/plain": [
       "             close      1d\n",
       "2018-03-21  316.53  309.10\n",
       "2018-03-22  309.10  301.54\n",
       "2018-03-23  301.54  304.18\n",
       "2018-03-26  304.18  279.18\n",
       "2018-03-27  279.18     NaN"
      ]
     },
     "execution_count": 192,
     "metadata": {},
     "output_type": "execute_result"
    }
   ],
   "source": [
    "df.tail()"
   ]
  },
  {
   "cell_type": "code",
   "execution_count": 193,
   "id": "e40eeab0",
   "metadata": {},
   "outputs": [],
   "source": [
    "# We will construct the time-series data for 30 days and predict the data for \n",
    "# next 8 days. In addition to this, we will be doing this for the next\n",
    "# two years.\n",
    "for d in range(2, 41):\n",
    "\n",
    "    col = '%dd' % d\n",
    "    df[col] = df['close'].shift(-1 * d)\n"
   ]
  },
  {
   "cell_type": "code",
   "execution_count": 194,
   "id": "4cccc509",
   "metadata": {},
   "outputs": [
    {
     "data": {
      "text/html": [
       "<div>\n",
       "<style scoped>\n",
       "    .dataframe tbody tr th:only-of-type {\n",
       "        vertical-align: middle;\n",
       "    }\n",
       "\n",
       "    .dataframe tbody tr th {\n",
       "        vertical-align: top;\n",
       "    }\n",
       "\n",
       "    .dataframe thead th {\n",
       "        text-align: right;\n",
       "    }\n",
       "</style>\n",
       "<table border=\"1\" class=\"dataframe\">\n",
       "  <thead>\n",
       "    <tr style=\"text-align: right;\">\n",
       "      <th></th>\n",
       "      <th>close</th>\n",
       "      <th>1d</th>\n",
       "      <th>2d</th>\n",
       "      <th>3d</th>\n",
       "      <th>4d</th>\n",
       "      <th>5d</th>\n",
       "      <th>6d</th>\n",
       "      <th>7d</th>\n",
       "      <th>8d</th>\n",
       "      <th>9d</th>\n",
       "      <th>...</th>\n",
       "      <th>31d</th>\n",
       "      <th>32d</th>\n",
       "      <th>33d</th>\n",
       "      <th>34d</th>\n",
       "      <th>35d</th>\n",
       "      <th>36d</th>\n",
       "      <th>37d</th>\n",
       "      <th>38d</th>\n",
       "      <th>39d</th>\n",
       "      <th>40d</th>\n",
       "    </tr>\n",
       "  </thead>\n",
       "  <tbody>\n",
       "    <tr>\n",
       "      <th>2010-06-29</th>\n",
       "      <td>23.89</td>\n",
       "      <td>23.83</td>\n",
       "      <td>21.96</td>\n",
       "      <td>19.20</td>\n",
       "      <td>16.11</td>\n",
       "      <td>15.80</td>\n",
       "      <td>17.46</td>\n",
       "      <td>17.40</td>\n",
       "      <td>17.05</td>\n",
       "      <td>18.14</td>\n",
       "      <td>...</td>\n",
       "      <td>17.60</td>\n",
       "      <td>18.32</td>\n",
       "      <td>18.78</td>\n",
       "      <td>19.15</td>\n",
       "      <td>18.77</td>\n",
       "      <td>18.79</td>\n",
       "      <td>19.10</td>\n",
       "      <td>20.13</td>\n",
       "      <td>19.20</td>\n",
       "      <td>19.90</td>\n",
       "    </tr>\n",
       "    <tr>\n",
       "      <th>2010-06-30</th>\n",
       "      <td>23.83</td>\n",
       "      <td>21.96</td>\n",
       "      <td>19.20</td>\n",
       "      <td>16.11</td>\n",
       "      <td>15.80</td>\n",
       "      <td>17.46</td>\n",
       "      <td>17.40</td>\n",
       "      <td>17.05</td>\n",
       "      <td>18.14</td>\n",
       "      <td>19.84</td>\n",
       "      <td>...</td>\n",
       "      <td>18.32</td>\n",
       "      <td>18.78</td>\n",
       "      <td>19.15</td>\n",
       "      <td>18.77</td>\n",
       "      <td>18.79</td>\n",
       "      <td>19.10</td>\n",
       "      <td>20.13</td>\n",
       "      <td>19.20</td>\n",
       "      <td>19.90</td>\n",
       "      <td>19.75</td>\n",
       "    </tr>\n",
       "    <tr>\n",
       "      <th>2010-07-01</th>\n",
       "      <td>21.96</td>\n",
       "      <td>19.20</td>\n",
       "      <td>16.11</td>\n",
       "      <td>15.80</td>\n",
       "      <td>17.46</td>\n",
       "      <td>17.40</td>\n",
       "      <td>17.05</td>\n",
       "      <td>18.14</td>\n",
       "      <td>19.84</td>\n",
       "      <td>19.89</td>\n",
       "      <td>...</td>\n",
       "      <td>18.78</td>\n",
       "      <td>19.15</td>\n",
       "      <td>18.77</td>\n",
       "      <td>18.79</td>\n",
       "      <td>19.10</td>\n",
       "      <td>20.13</td>\n",
       "      <td>19.20</td>\n",
       "      <td>19.90</td>\n",
       "      <td>19.75</td>\n",
       "      <td>19.70</td>\n",
       "    </tr>\n",
       "    <tr>\n",
       "      <th>2010-07-02</th>\n",
       "      <td>19.20</td>\n",
       "      <td>16.11</td>\n",
       "      <td>15.80</td>\n",
       "      <td>17.46</td>\n",
       "      <td>17.40</td>\n",
       "      <td>17.05</td>\n",
       "      <td>18.14</td>\n",
       "      <td>19.84</td>\n",
       "      <td>19.89</td>\n",
       "      <td>20.64</td>\n",
       "      <td>...</td>\n",
       "      <td>19.15</td>\n",
       "      <td>18.77</td>\n",
       "      <td>18.79</td>\n",
       "      <td>19.10</td>\n",
       "      <td>20.13</td>\n",
       "      <td>19.20</td>\n",
       "      <td>19.90</td>\n",
       "      <td>19.75</td>\n",
       "      <td>19.70</td>\n",
       "      <td>19.87</td>\n",
       "    </tr>\n",
       "    <tr>\n",
       "      <th>2010-07-06</th>\n",
       "      <td>16.11</td>\n",
       "      <td>15.80</td>\n",
       "      <td>17.46</td>\n",
       "      <td>17.40</td>\n",
       "      <td>17.05</td>\n",
       "      <td>18.14</td>\n",
       "      <td>19.84</td>\n",
       "      <td>19.89</td>\n",
       "      <td>20.64</td>\n",
       "      <td>21.91</td>\n",
       "      <td>...</td>\n",
       "      <td>18.77</td>\n",
       "      <td>18.79</td>\n",
       "      <td>19.10</td>\n",
       "      <td>20.13</td>\n",
       "      <td>19.20</td>\n",
       "      <td>19.90</td>\n",
       "      <td>19.75</td>\n",
       "      <td>19.70</td>\n",
       "      <td>19.87</td>\n",
       "      <td>19.48</td>\n",
       "    </tr>\n",
       "  </tbody>\n",
       "</table>\n",
       "<p>5 rows × 41 columns</p>\n",
       "</div>"
      ],
      "text/plain": [
       "            close     1d     2d     3d     4d     5d     6d     7d     8d  \\\n",
       "2010-06-29  23.89  23.83  21.96  19.20  16.11  15.80  17.46  17.40  17.05   \n",
       "2010-06-30  23.83  21.96  19.20  16.11  15.80  17.46  17.40  17.05  18.14   \n",
       "2010-07-01  21.96  19.20  16.11  15.80  17.46  17.40  17.05  18.14  19.84   \n",
       "2010-07-02  19.20  16.11  15.80  17.46  17.40  17.05  18.14  19.84  19.89   \n",
       "2010-07-06  16.11  15.80  17.46  17.40  17.05  18.14  19.84  19.89  20.64   \n",
       "\n",
       "               9d  ...    31d    32d    33d    34d    35d    36d    37d  \\\n",
       "2010-06-29  18.14  ...  17.60  18.32  18.78  19.15  18.77  18.79  19.10   \n",
       "2010-06-30  19.84  ...  18.32  18.78  19.15  18.77  18.79  19.10  20.13   \n",
       "2010-07-01  19.89  ...  18.78  19.15  18.77  18.79  19.10  20.13  19.20   \n",
       "2010-07-02  20.64  ...  19.15  18.77  18.79  19.10  20.13  19.20  19.90   \n",
       "2010-07-06  21.91  ...  18.77  18.79  19.10  20.13  19.20  19.90  19.75   \n",
       "\n",
       "              38d    39d    40d  \n",
       "2010-06-29  20.13  19.20  19.90  \n",
       "2010-06-30  19.20  19.90  19.75  \n",
       "2010-07-01  19.90  19.75  19.70  \n",
       "2010-07-02  19.75  19.70  19.87  \n",
       "2010-07-06  19.70  19.87  19.48  \n",
       "\n",
       "[5 rows x 41 columns]"
      ]
     },
     "execution_count": 194,
     "metadata": {},
     "output_type": "execute_result"
    }
   ],
   "source": [
    "df.head()"
   ]
  },
  {
   "cell_type": "code",
   "execution_count": 195,
   "id": "d02ecb26",
   "metadata": {},
   "outputs": [
    {
     "data": {
      "text/html": [
       "<div>\n",
       "<style scoped>\n",
       "    .dataframe tbody tr th:only-of-type {\n",
       "        vertical-align: middle;\n",
       "    }\n",
       "\n",
       "    .dataframe tbody tr th {\n",
       "        vertical-align: top;\n",
       "    }\n",
       "\n",
       "    .dataframe thead th {\n",
       "        text-align: right;\n",
       "    }\n",
       "</style>\n",
       "<table border=\"1\" class=\"dataframe\">\n",
       "  <thead>\n",
       "    <tr style=\"text-align: right;\">\n",
       "      <th></th>\n",
       "      <th>close</th>\n",
       "      <th>1d</th>\n",
       "      <th>2d</th>\n",
       "      <th>3d</th>\n",
       "      <th>4d</th>\n",
       "      <th>5d</th>\n",
       "      <th>6d</th>\n",
       "      <th>7d</th>\n",
       "      <th>8d</th>\n",
       "      <th>9d</th>\n",
       "      <th>...</th>\n",
       "      <th>31d</th>\n",
       "      <th>32d</th>\n",
       "      <th>33d</th>\n",
       "      <th>34d</th>\n",
       "      <th>35d</th>\n",
       "      <th>36d</th>\n",
       "      <th>37d</th>\n",
       "      <th>38d</th>\n",
       "      <th>39d</th>\n",
       "      <th>40d</th>\n",
       "    </tr>\n",
       "  </thead>\n",
       "  <tbody>\n",
       "    <tr>\n",
       "      <th>2018-03-21</th>\n",
       "      <td>316.53</td>\n",
       "      <td>309.10</td>\n",
       "      <td>301.54</td>\n",
       "      <td>304.18</td>\n",
       "      <td>279.18</td>\n",
       "      <td>NaN</td>\n",
       "      <td>NaN</td>\n",
       "      <td>NaN</td>\n",
       "      <td>NaN</td>\n",
       "      <td>NaN</td>\n",
       "      <td>...</td>\n",
       "      <td>NaN</td>\n",
       "      <td>NaN</td>\n",
       "      <td>NaN</td>\n",
       "      <td>NaN</td>\n",
       "      <td>NaN</td>\n",
       "      <td>NaN</td>\n",
       "      <td>NaN</td>\n",
       "      <td>NaN</td>\n",
       "      <td>NaN</td>\n",
       "      <td>NaN</td>\n",
       "    </tr>\n",
       "    <tr>\n",
       "      <th>2018-03-22</th>\n",
       "      <td>309.10</td>\n",
       "      <td>301.54</td>\n",
       "      <td>304.18</td>\n",
       "      <td>279.18</td>\n",
       "      <td>NaN</td>\n",
       "      <td>NaN</td>\n",
       "      <td>NaN</td>\n",
       "      <td>NaN</td>\n",
       "      <td>NaN</td>\n",
       "      <td>NaN</td>\n",
       "      <td>...</td>\n",
       "      <td>NaN</td>\n",
       "      <td>NaN</td>\n",
       "      <td>NaN</td>\n",
       "      <td>NaN</td>\n",
       "      <td>NaN</td>\n",
       "      <td>NaN</td>\n",
       "      <td>NaN</td>\n",
       "      <td>NaN</td>\n",
       "      <td>NaN</td>\n",
       "      <td>NaN</td>\n",
       "    </tr>\n",
       "    <tr>\n",
       "      <th>2018-03-23</th>\n",
       "      <td>301.54</td>\n",
       "      <td>304.18</td>\n",
       "      <td>279.18</td>\n",
       "      <td>NaN</td>\n",
       "      <td>NaN</td>\n",
       "      <td>NaN</td>\n",
       "      <td>NaN</td>\n",
       "      <td>NaN</td>\n",
       "      <td>NaN</td>\n",
       "      <td>NaN</td>\n",
       "      <td>...</td>\n",
       "      <td>NaN</td>\n",
       "      <td>NaN</td>\n",
       "      <td>NaN</td>\n",
       "      <td>NaN</td>\n",
       "      <td>NaN</td>\n",
       "      <td>NaN</td>\n",
       "      <td>NaN</td>\n",
       "      <td>NaN</td>\n",
       "      <td>NaN</td>\n",
       "      <td>NaN</td>\n",
       "    </tr>\n",
       "    <tr>\n",
       "      <th>2018-03-26</th>\n",
       "      <td>304.18</td>\n",
       "      <td>279.18</td>\n",
       "      <td>NaN</td>\n",
       "      <td>NaN</td>\n",
       "      <td>NaN</td>\n",
       "      <td>NaN</td>\n",
       "      <td>NaN</td>\n",
       "      <td>NaN</td>\n",
       "      <td>NaN</td>\n",
       "      <td>NaN</td>\n",
       "      <td>...</td>\n",
       "      <td>NaN</td>\n",
       "      <td>NaN</td>\n",
       "      <td>NaN</td>\n",
       "      <td>NaN</td>\n",
       "      <td>NaN</td>\n",
       "      <td>NaN</td>\n",
       "      <td>NaN</td>\n",
       "      <td>NaN</td>\n",
       "      <td>NaN</td>\n",
       "      <td>NaN</td>\n",
       "    </tr>\n",
       "    <tr>\n",
       "      <th>2018-03-27</th>\n",
       "      <td>279.18</td>\n",
       "      <td>NaN</td>\n",
       "      <td>NaN</td>\n",
       "      <td>NaN</td>\n",
       "      <td>NaN</td>\n",
       "      <td>NaN</td>\n",
       "      <td>NaN</td>\n",
       "      <td>NaN</td>\n",
       "      <td>NaN</td>\n",
       "      <td>NaN</td>\n",
       "      <td>...</td>\n",
       "      <td>NaN</td>\n",
       "      <td>NaN</td>\n",
       "      <td>NaN</td>\n",
       "      <td>NaN</td>\n",
       "      <td>NaN</td>\n",
       "      <td>NaN</td>\n",
       "      <td>NaN</td>\n",
       "      <td>NaN</td>\n",
       "      <td>NaN</td>\n",
       "      <td>NaN</td>\n",
       "    </tr>\n",
       "  </tbody>\n",
       "</table>\n",
       "<p>5 rows × 41 columns</p>\n",
       "</div>"
      ],
      "text/plain": [
       "             close      1d      2d      3d      4d  5d  6d  7d  8d  9d  ...  \\\n",
       "2018-03-21  316.53  309.10  301.54  304.18  279.18 NaN NaN NaN NaN NaN  ...   \n",
       "2018-03-22  309.10  301.54  304.18  279.18     NaN NaN NaN NaN NaN NaN  ...   \n",
       "2018-03-23  301.54  304.18  279.18     NaN     NaN NaN NaN NaN NaN NaN  ...   \n",
       "2018-03-26  304.18  279.18     NaN     NaN     NaN NaN NaN NaN NaN NaN  ...   \n",
       "2018-03-27  279.18     NaN     NaN     NaN     NaN NaN NaN NaN NaN NaN  ...   \n",
       "\n",
       "            31d  32d  33d  34d  35d  36d  37d  38d  39d  40d  \n",
       "2018-03-21  NaN  NaN  NaN  NaN  NaN  NaN  NaN  NaN  NaN  NaN  \n",
       "2018-03-22  NaN  NaN  NaN  NaN  NaN  NaN  NaN  NaN  NaN  NaN  \n",
       "2018-03-23  NaN  NaN  NaN  NaN  NaN  NaN  NaN  NaN  NaN  NaN  \n",
       "2018-03-26  NaN  NaN  NaN  NaN  NaN  NaN  NaN  NaN  NaN  NaN  \n",
       "2018-03-27  NaN  NaN  NaN  NaN  NaN  NaN  NaN  NaN  NaN  NaN  \n",
       "\n",
       "[5 rows x 41 columns]"
      ]
     },
     "execution_count": 195,
     "metadata": {},
     "output_type": "execute_result"
    }
   ],
   "source": [
    "df.tail()"
   ]
  },
  {
   "cell_type": "code",
   "execution_count": 203,
   "id": "1fad246a",
   "metadata": {},
   "outputs": [],
   "source": [
    "df = df.dropna()"
   ]
  },
  {
   "cell_type": "code",
   "execution_count": 204,
   "id": "86daf596",
   "metadata": {},
   "outputs": [
    {
     "data": {
      "text/html": [
       "<div>\n",
       "<style scoped>\n",
       "    .dataframe tbody tr th:only-of-type {\n",
       "        vertical-align: middle;\n",
       "    }\n",
       "\n",
       "    .dataframe tbody tr th {\n",
       "        vertical-align: top;\n",
       "    }\n",
       "\n",
       "    .dataframe thead th {\n",
       "        text-align: right;\n",
       "    }\n",
       "</style>\n",
       "<table border=\"1\" class=\"dataframe\">\n",
       "  <thead>\n",
       "    <tr style=\"text-align: right;\">\n",
       "      <th></th>\n",
       "      <th>close</th>\n",
       "      <th>1d</th>\n",
       "      <th>2d</th>\n",
       "      <th>3d</th>\n",
       "      <th>4d</th>\n",
       "      <th>5d</th>\n",
       "      <th>6d</th>\n",
       "      <th>7d</th>\n",
       "      <th>8d</th>\n",
       "      <th>9d</th>\n",
       "      <th>...</th>\n",
       "      <th>23d</th>\n",
       "      <th>24d</th>\n",
       "      <th>25d</th>\n",
       "      <th>26d</th>\n",
       "      <th>27d</th>\n",
       "      <th>28d</th>\n",
       "      <th>29d</th>\n",
       "      <th>30d</th>\n",
       "      <th>31d</th>\n",
       "      <th>32d</th>\n",
       "    </tr>\n",
       "  </thead>\n",
       "  <tbody>\n",
       "    <tr>\n",
       "      <th>2010-06-29</th>\n",
       "      <td>23.89</td>\n",
       "      <td>23.83</td>\n",
       "      <td>21.96</td>\n",
       "      <td>19.20</td>\n",
       "      <td>16.11</td>\n",
       "      <td>15.80</td>\n",
       "      <td>17.46</td>\n",
       "      <td>17.40</td>\n",
       "      <td>17.05</td>\n",
       "      <td>18.14</td>\n",
       "      <td>...</td>\n",
       "      <td>20.92</td>\n",
       "      <td>21.95</td>\n",
       "      <td>21.26</td>\n",
       "      <td>20.45</td>\n",
       "      <td>19.59</td>\n",
       "      <td>19.60</td>\n",
       "      <td>19.03</td>\n",
       "      <td>17.90</td>\n",
       "      <td>17.60</td>\n",
       "      <td>18.32</td>\n",
       "    </tr>\n",
       "    <tr>\n",
       "      <th>2010-06-30</th>\n",
       "      <td>23.83</td>\n",
       "      <td>21.96</td>\n",
       "      <td>19.20</td>\n",
       "      <td>16.11</td>\n",
       "      <td>15.80</td>\n",
       "      <td>17.46</td>\n",
       "      <td>17.40</td>\n",
       "      <td>17.05</td>\n",
       "      <td>18.14</td>\n",
       "      <td>19.84</td>\n",
       "      <td>...</td>\n",
       "      <td>21.95</td>\n",
       "      <td>21.26</td>\n",
       "      <td>20.45</td>\n",
       "      <td>19.59</td>\n",
       "      <td>19.60</td>\n",
       "      <td>19.03</td>\n",
       "      <td>17.90</td>\n",
       "      <td>17.60</td>\n",
       "      <td>18.32</td>\n",
       "      <td>18.78</td>\n",
       "    </tr>\n",
       "    <tr>\n",
       "      <th>2010-07-01</th>\n",
       "      <td>21.96</td>\n",
       "      <td>19.20</td>\n",
       "      <td>16.11</td>\n",
       "      <td>15.80</td>\n",
       "      <td>17.46</td>\n",
       "      <td>17.40</td>\n",
       "      <td>17.05</td>\n",
       "      <td>18.14</td>\n",
       "      <td>19.84</td>\n",
       "      <td>19.89</td>\n",
       "      <td>...</td>\n",
       "      <td>21.26</td>\n",
       "      <td>20.45</td>\n",
       "      <td>19.59</td>\n",
       "      <td>19.60</td>\n",
       "      <td>19.03</td>\n",
       "      <td>17.90</td>\n",
       "      <td>17.60</td>\n",
       "      <td>18.32</td>\n",
       "      <td>18.78</td>\n",
       "      <td>19.15</td>\n",
       "    </tr>\n",
       "    <tr>\n",
       "      <th>2010-07-02</th>\n",
       "      <td>19.20</td>\n",
       "      <td>16.11</td>\n",
       "      <td>15.80</td>\n",
       "      <td>17.46</td>\n",
       "      <td>17.40</td>\n",
       "      <td>17.05</td>\n",
       "      <td>18.14</td>\n",
       "      <td>19.84</td>\n",
       "      <td>19.89</td>\n",
       "      <td>20.64</td>\n",
       "      <td>...</td>\n",
       "      <td>20.45</td>\n",
       "      <td>19.59</td>\n",
       "      <td>19.60</td>\n",
       "      <td>19.03</td>\n",
       "      <td>17.90</td>\n",
       "      <td>17.60</td>\n",
       "      <td>18.32</td>\n",
       "      <td>18.78</td>\n",
       "      <td>19.15</td>\n",
       "      <td>18.77</td>\n",
       "    </tr>\n",
       "    <tr>\n",
       "      <th>2010-07-06</th>\n",
       "      <td>16.11</td>\n",
       "      <td>15.80</td>\n",
       "      <td>17.46</td>\n",
       "      <td>17.40</td>\n",
       "      <td>17.05</td>\n",
       "      <td>18.14</td>\n",
       "      <td>19.84</td>\n",
       "      <td>19.89</td>\n",
       "      <td>20.64</td>\n",
       "      <td>21.91</td>\n",
       "      <td>...</td>\n",
       "      <td>19.59</td>\n",
       "      <td>19.60</td>\n",
       "      <td>19.03</td>\n",
       "      <td>17.90</td>\n",
       "      <td>17.60</td>\n",
       "      <td>18.32</td>\n",
       "      <td>18.78</td>\n",
       "      <td>19.15</td>\n",
       "      <td>18.77</td>\n",
       "      <td>18.79</td>\n",
       "    </tr>\n",
       "  </tbody>\n",
       "</table>\n",
       "<p>5 rows × 33 columns</p>\n",
       "</div>"
      ],
      "text/plain": [
       "            close     1d     2d     3d     4d     5d     6d     7d     8d  \\\n",
       "2010-06-29  23.89  23.83  21.96  19.20  16.11  15.80  17.46  17.40  17.05   \n",
       "2010-06-30  23.83  21.96  19.20  16.11  15.80  17.46  17.40  17.05  18.14   \n",
       "2010-07-01  21.96  19.20  16.11  15.80  17.46  17.40  17.05  18.14  19.84   \n",
       "2010-07-02  19.20  16.11  15.80  17.46  17.40  17.05  18.14  19.84  19.89   \n",
       "2010-07-06  16.11  15.80  17.46  17.40  17.05  18.14  19.84  19.89  20.64   \n",
       "\n",
       "               9d  ...    23d    24d    25d    26d    27d    28d    29d  \\\n",
       "2010-06-29  18.14  ...  20.92  21.95  21.26  20.45  19.59  19.60  19.03   \n",
       "2010-06-30  19.84  ...  21.95  21.26  20.45  19.59  19.60  19.03  17.90   \n",
       "2010-07-01  19.89  ...  21.26  20.45  19.59  19.60  19.03  17.90  17.60   \n",
       "2010-07-02  20.64  ...  20.45  19.59  19.60  19.03  17.90  17.60  18.32   \n",
       "2010-07-06  21.91  ...  19.59  19.60  19.03  17.90  17.60  18.32  18.78   \n",
       "\n",
       "              30d    31d    32d  \n",
       "2010-06-29  17.90  17.60  18.32  \n",
       "2010-06-30  17.60  18.32  18.78  \n",
       "2010-07-01  18.32  18.78  19.15  \n",
       "2010-07-02  18.78  19.15  18.77  \n",
       "2010-07-06  19.15  18.77  18.79  \n",
       "\n",
       "[5 rows x 33 columns]"
      ]
     },
     "execution_count": 204,
     "metadata": {},
     "output_type": "execute_result"
    }
   ],
   "source": [
    "# Let us slice the rows and the colms to be useed\n",
    "# As the the X and y data-set\n",
    "X = df.iloc[:, :33]\n",
    "y = df.iloc[:, 33:]\n",
    "X.head()"
   ]
  },
  {
   "cell_type": "code",
   "execution_count": 205,
   "id": "463eb652",
   "metadata": {},
   "outputs": [
    {
     "data": {
      "text/html": [
       "<div>\n",
       "<style scoped>\n",
       "    .dataframe tbody tr th:only-of-type {\n",
       "        vertical-align: middle;\n",
       "    }\n",
       "\n",
       "    .dataframe tbody tr th {\n",
       "        vertical-align: top;\n",
       "    }\n",
       "\n",
       "    .dataframe thead th {\n",
       "        text-align: right;\n",
       "    }\n",
       "</style>\n",
       "<table border=\"1\" class=\"dataframe\">\n",
       "  <thead>\n",
       "    <tr style=\"text-align: right;\">\n",
       "      <th></th>\n",
       "      <th>33d</th>\n",
       "      <th>34d</th>\n",
       "      <th>35d</th>\n",
       "      <th>36d</th>\n",
       "      <th>37d</th>\n",
       "      <th>38d</th>\n",
       "      <th>39d</th>\n",
       "      <th>40d</th>\n",
       "    </tr>\n",
       "  </thead>\n",
       "  <tbody>\n",
       "    <tr>\n",
       "      <th>2010-06-29</th>\n",
       "      <td>18.78</td>\n",
       "      <td>19.15</td>\n",
       "      <td>18.77</td>\n",
       "      <td>18.79</td>\n",
       "      <td>19.10</td>\n",
       "      <td>20.13</td>\n",
       "      <td>19.20</td>\n",
       "      <td>19.90</td>\n",
       "    </tr>\n",
       "    <tr>\n",
       "      <th>2010-06-30</th>\n",
       "      <td>19.15</td>\n",
       "      <td>18.77</td>\n",
       "      <td>18.79</td>\n",
       "      <td>19.10</td>\n",
       "      <td>20.13</td>\n",
       "      <td>19.20</td>\n",
       "      <td>19.90</td>\n",
       "      <td>19.75</td>\n",
       "    </tr>\n",
       "    <tr>\n",
       "      <th>2010-07-01</th>\n",
       "      <td>18.77</td>\n",
       "      <td>18.79</td>\n",
       "      <td>19.10</td>\n",
       "      <td>20.13</td>\n",
       "      <td>19.20</td>\n",
       "      <td>19.90</td>\n",
       "      <td>19.75</td>\n",
       "      <td>19.70</td>\n",
       "    </tr>\n",
       "    <tr>\n",
       "      <th>2010-07-02</th>\n",
       "      <td>18.79</td>\n",
       "      <td>19.10</td>\n",
       "      <td>20.13</td>\n",
       "      <td>19.20</td>\n",
       "      <td>19.90</td>\n",
       "      <td>19.75</td>\n",
       "      <td>19.70</td>\n",
       "      <td>19.87</td>\n",
       "    </tr>\n",
       "    <tr>\n",
       "      <th>2010-07-06</th>\n",
       "      <td>19.10</td>\n",
       "      <td>20.13</td>\n",
       "      <td>19.20</td>\n",
       "      <td>19.90</td>\n",
       "      <td>19.75</td>\n",
       "      <td>19.70</td>\n",
       "      <td>19.87</td>\n",
       "      <td>19.48</td>\n",
       "    </tr>\n",
       "  </tbody>\n",
       "</table>\n",
       "</div>"
      ],
      "text/plain": [
       "              33d    34d    35d    36d    37d    38d    39d    40d\n",
       "2010-06-29  18.78  19.15  18.77  18.79  19.10  20.13  19.20  19.90\n",
       "2010-06-30  19.15  18.77  18.79  19.10  20.13  19.20  19.90  19.75\n",
       "2010-07-01  18.77  18.79  19.10  20.13  19.20  19.90  19.75  19.70\n",
       "2010-07-02  18.79  19.10  20.13  19.20  19.90  19.75  19.70  19.87\n",
       "2010-07-06  19.10  20.13  19.20  19.90  19.75  19.70  19.87  19.48"
      ]
     },
     "execution_count": 205,
     "metadata": {},
     "output_type": "execute_result"
    }
   ],
   "source": [
    "y.head()"
   ]
  },
  {
   "cell_type": "code",
   "execution_count": 206,
   "id": "867ac4c2",
   "metadata": {},
   "outputs": [
    {
     "name": "stdout",
     "output_type": "stream",
     "text": [
      "Requirement already satisfied: scikit-learn in e:\\python\\envs\\tradingproject\\lib\\site-packages (1.3.0)\n",
      "Requirement already satisfied: numpy>=1.17.3 in e:\\python\\envs\\tradingproject\\lib\\site-packages (from scikit-learn) (1.25.2)\n",
      "Requirement already satisfied: scipy>=1.5.0 in e:\\python\\envs\\tradingproject\\lib\\site-packages (from scikit-learn) (1.11.2)\n",
      "Requirement already satisfied: joblib>=1.1.1 in e:\\python\\envs\\tradingproject\\lib\\site-packages (from scikit-learn) (1.3.2)\n",
      "Requirement already satisfied: threadpoolctl>=2.0.0 in e:\\python\\envs\\tradingproject\\lib\\site-packages (from scikit-learn) (3.2.0)\n"
     ]
    }
   ],
   "source": [
    "!pip install scikit-learn\n",
    "from sklearn.model_selection import train_test_split\n"
   ]
  },
  {
   "cell_type": "code",
   "execution_count": null,
   "id": "f9ae67a5",
   "metadata": {},
   "outputs": [],
   "source": []
  },
  {
   "cell_type": "code",
   "execution_count": 207,
   "id": "5d390368",
   "metadata": {},
   "outputs": [],
   "source": [
    "X_train, X_test, y_train, y_test = train_test_split(X, y, test_size = 0.4)"
   ]
  },
  {
   "cell_type": "code",
   "execution_count": 208,
   "id": "bf507407",
   "metadata": {},
   "outputs": [
    {
     "name": "stdout",
     "output_type": "stream",
     "text": [
      "Shape of X_train is  (1145, 33)\n",
      "Shape of X_test is  (764, 33)\n",
      "Shape of y_train is  (1145, 8)\n",
      "Shape of y_test is  (764, 33)\n"
     ]
    }
   ],
   "source": [
    "print(\"Shape of X_train is \", X_train.shape)\n",
    "print(\"Shape of X_test is \", X_test.shape)\n",
    "print(\"Shape of y_train is \", y_train.shape)\n",
    "print(\"Shape of y_test is \", X_test.shape)"
   ]
  },
  {
   "cell_type": "code",
   "execution_count": 209,
   "id": "060a0592",
   "metadata": {},
   "outputs": [
    {
     "name": "stdout",
     "output_type": "stream",
     "text": [
      "close    0\n",
      "1d       0\n",
      "2d       0\n",
      "3d       0\n",
      "4d       0\n",
      "5d       0\n",
      "6d       0\n",
      "7d       0\n",
      "8d       0\n",
      "9d       0\n",
      "10d      0\n",
      "11d      0\n",
      "12d      0\n",
      "13d      0\n",
      "14d      0\n",
      "15d      0\n",
      "16d      0\n",
      "17d      0\n",
      "18d      0\n",
      "19d      0\n",
      "20d      0\n",
      "21d      0\n",
      "22d      0\n",
      "23d      0\n",
      "24d      0\n",
      "25d      0\n",
      "26d      0\n",
      "27d      0\n",
      "28d      0\n",
      "29d      0\n",
      "30d      0\n",
      "31d      0\n",
      "32d      0\n",
      "dtype: int64\n",
      "X_train doesn't have NaN values.\n"
     ]
    }
   ],
   "source": [
    "# Check for NaN values using isna()\n",
    "nan_check = X_train.isna()\n",
    "\n",
    "# Alternatively, you can use isnull() method\n",
    "# nan_check = X_train.isnull()\n",
    "\n",
    "# Summing the boolean values will give you the count of NaN values for each column\n",
    "nan_counts = nan_check.sum()\n",
    "\n",
    "# Print the counts of NaN values for each column\n",
    "print(nan_counts)\n",
    "any_nan = nan_check.any().any()\n",
    "\n",
    "if any_nan:\n",
    "    print(\"X_train has NaN values.\")\n",
    "else:\n",
    "    print(\"X_train doesn't have NaN values.\")\n"
   ]
  },
  {
   "cell_type": "code",
   "execution_count": 210,
   "id": "20dd3fb0",
   "metadata": {},
   "outputs": [
    {
     "name": "stderr",
     "output_type": "stream",
     "text": [
      "[Parallel(n_jobs=-1)]: Using backend ThreadingBackend with 8 concurrent workers.\n",
      "[Parallel(n_jobs=-1)]: Done  34 tasks      | elapsed:    0.1s\n",
      "[Parallel(n_jobs=-1)]: Done 100 out of 100 | elapsed:    0.4s finished\n"
     ]
    },
    {
     "data": {
      "text/html": [
       "<style>#sk-container-id-1 {color: black;}#sk-container-id-1 pre{padding: 0;}#sk-container-id-1 div.sk-toggleable {background-color: white;}#sk-container-id-1 label.sk-toggleable__label {cursor: pointer;display: block;width: 100%;margin-bottom: 0;padding: 0.3em;box-sizing: border-box;text-align: center;}#sk-container-id-1 label.sk-toggleable__label-arrow:before {content: \"▸\";float: left;margin-right: 0.25em;color: #696969;}#sk-container-id-1 label.sk-toggleable__label-arrow:hover:before {color: black;}#sk-container-id-1 div.sk-estimator:hover label.sk-toggleable__label-arrow:before {color: black;}#sk-container-id-1 div.sk-toggleable__content {max-height: 0;max-width: 0;overflow: hidden;text-align: left;background-color: #f0f8ff;}#sk-container-id-1 div.sk-toggleable__content pre {margin: 0.2em;color: black;border-radius: 0.25em;background-color: #f0f8ff;}#sk-container-id-1 input.sk-toggleable__control:checked~div.sk-toggleable__content {max-height: 200px;max-width: 100%;overflow: auto;}#sk-container-id-1 input.sk-toggleable__control:checked~label.sk-toggleable__label-arrow:before {content: \"▾\";}#sk-container-id-1 div.sk-estimator input.sk-toggleable__control:checked~label.sk-toggleable__label {background-color: #d4ebff;}#sk-container-id-1 div.sk-label input.sk-toggleable__control:checked~label.sk-toggleable__label {background-color: #d4ebff;}#sk-container-id-1 input.sk-hidden--visually {border: 0;clip: rect(1px 1px 1px 1px);clip: rect(1px, 1px, 1px, 1px);height: 1px;margin: -1px;overflow: hidden;padding: 0;position: absolute;width: 1px;}#sk-container-id-1 div.sk-estimator {font-family: monospace;background-color: #f0f8ff;border: 1px dotted black;border-radius: 0.25em;box-sizing: border-box;margin-bottom: 0.5em;}#sk-container-id-1 div.sk-estimator:hover {background-color: #d4ebff;}#sk-container-id-1 div.sk-parallel-item::after {content: \"\";width: 100%;border-bottom: 1px solid gray;flex-grow: 1;}#sk-container-id-1 div.sk-label:hover label.sk-toggleable__label {background-color: #d4ebff;}#sk-container-id-1 div.sk-serial::before {content: \"\";position: absolute;border-left: 1px solid gray;box-sizing: border-box;top: 0;bottom: 0;left: 50%;z-index: 0;}#sk-container-id-1 div.sk-serial {display: flex;flex-direction: column;align-items: center;background-color: white;padding-right: 0.2em;padding-left: 0.2em;position: relative;}#sk-container-id-1 div.sk-item {position: relative;z-index: 1;}#sk-container-id-1 div.sk-parallel {display: flex;align-items: stretch;justify-content: center;background-color: white;position: relative;}#sk-container-id-1 div.sk-item::before, #sk-container-id-1 div.sk-parallel-item::before {content: \"\";position: absolute;border-left: 1px solid gray;box-sizing: border-box;top: 0;bottom: 0;left: 50%;z-index: -1;}#sk-container-id-1 div.sk-parallel-item {display: flex;flex-direction: column;z-index: 1;position: relative;background-color: white;}#sk-container-id-1 div.sk-parallel-item:first-child::after {align-self: flex-end;width: 50%;}#sk-container-id-1 div.sk-parallel-item:last-child::after {align-self: flex-start;width: 50%;}#sk-container-id-1 div.sk-parallel-item:only-child::after {width: 0;}#sk-container-id-1 div.sk-dashed-wrapped {border: 1px dashed gray;margin: 0 0.4em 0.5em 0.4em;box-sizing: border-box;padding-bottom: 0.4em;background-color: white;}#sk-container-id-1 div.sk-label label {font-family: monospace;font-weight: bold;display: inline-block;line-height: 1.2em;}#sk-container-id-1 div.sk-label-container {text-align: center;}#sk-container-id-1 div.sk-container {/* jupyter's `normalize.less` sets `[hidden] { display: none; }` but bootstrap.min.css set `[hidden] { display: none !important; }` so we also need the `!important` here to be able to override the default hidden behavior on the sphinx rendered scikit-learn.org. See: https://github.com/scikit-learn/scikit-learn/issues/21755 */display: inline-block !important;position: relative;}#sk-container-id-1 div.sk-text-repr-fallback {display: none;}</style><div id=\"sk-container-id-1\" class=\"sk-top-container\"><div class=\"sk-text-repr-fallback\"><pre>RandomForestRegressor(criterion=&#x27;friedman_mse&#x27;, max_features=&#x27;log2&#x27;, n_jobs=-1,\n",
       "                      oob_score=True, verbose=1)</pre><b>In a Jupyter environment, please rerun this cell to show the HTML representation or trust the notebook. <br />On GitHub, the HTML representation is unable to render, please try loading this page with nbviewer.org.</b></div><div class=\"sk-container\" hidden><div class=\"sk-item\"><div class=\"sk-estimator sk-toggleable\"><input class=\"sk-toggleable__control sk-hidden--visually\" id=\"sk-estimator-id-1\" type=\"checkbox\" checked><label for=\"sk-estimator-id-1\" class=\"sk-toggleable__label sk-toggleable__label-arrow\">RandomForestRegressor</label><div class=\"sk-toggleable__content\"><pre>RandomForestRegressor(criterion=&#x27;friedman_mse&#x27;, max_features=&#x27;log2&#x27;, n_jobs=-1,\n",
       "                      oob_score=True, verbose=1)</pre></div></div></div></div></div>"
      ],
      "text/plain": [
       "RandomForestRegressor(criterion='friedman_mse', max_features='log2', n_jobs=-1,\n",
       "                      oob_score=True, verbose=1)"
      ]
     },
     "execution_count": 210,
     "metadata": {},
     "output_type": "execute_result"
    }
   ],
   "source": [
    "from sklearn.ensemble import RandomForestRegressor\n",
    "\n",
    "regressor = RandomForestRegressor(\n",
    "    n_estimators=100,\n",
    "    criterion='friedman_mse',\n",
    "    max_depth=None,\n",
    "    min_samples_split=2,\n",
    "    min_samples_leaf=1,\n",
    "    min_weight_fraction_leaf=0.0,\n",
    "    max_features='log2',\n",
    "    max_leaf_nodes=None,\n",
    "    min_impurity_decrease=0.0,  # Use min_impurity_decrease instead of min_impurity_split\n",
    "    bootstrap=True,\n",
    "    oob_score=True,\n",
    "    n_jobs=-1,\n",
    "    random_state=None,\n",
    "    verbose=1,\n",
    "    warm_start=False\n",
    ")\n",
    "\n",
    "regressor.fit(X_train, y_train)\n"
   ]
  },
  {
   "cell_type": "code",
   "execution_count": null,
   "id": "bae73769",
   "metadata": {},
   "outputs": [],
   "source": []
  },
  {
   "cell_type": "code",
   "execution_count": 211,
   "id": "fb92fa6c",
   "metadata": {},
   "outputs": [
    {
     "name": "stderr",
     "output_type": "stream",
     "text": [
      "[Parallel(n_jobs=8)]: Using backend ThreadingBackend with 8 concurrent workers.\n",
      "[Parallel(n_jobs=8)]: Done  34 tasks      | elapsed:    0.0s\n",
      "[Parallel(n_jobs=8)]: Done 100 out of 100 | elapsed:    0.0s finished\n"
     ]
    },
    {
     "data": {
      "text/plain": [
       "0.9942708098730886"
      ]
     },
     "execution_count": 211,
     "metadata": {},
     "output_type": "execute_result"
    }
   ],
   "source": [
    "regressor.score(X_test, y_test)"
   ]
  },
  {
   "cell_type": "code",
   "execution_count": 212,
   "id": "f9d60533",
   "metadata": {},
   "outputs": [
    {
     "name": "stderr",
     "output_type": "stream",
     "text": [
      "e:\\Python\\envs\\TradingProject\\lib\\site-packages\\sklearn\\utils\\deprecation.py:101: FutureWarning: Attribute `base_estimator_` was deprecated in version 1.2 and will be removed in 1.4. Use `estimator_` instead.\n",
      "  warnings.warn(msg, category=FutureWarning)\n"
     ]
    },
    {
     "data": {
      "text/html": [
       "<style>#sk-container-id-2 {color: black;}#sk-container-id-2 pre{padding: 0;}#sk-container-id-2 div.sk-toggleable {background-color: white;}#sk-container-id-2 label.sk-toggleable__label {cursor: pointer;display: block;width: 100%;margin-bottom: 0;padding: 0.3em;box-sizing: border-box;text-align: center;}#sk-container-id-2 label.sk-toggleable__label-arrow:before {content: \"▸\";float: left;margin-right: 0.25em;color: #696969;}#sk-container-id-2 label.sk-toggleable__label-arrow:hover:before {color: black;}#sk-container-id-2 div.sk-estimator:hover label.sk-toggleable__label-arrow:before {color: black;}#sk-container-id-2 div.sk-toggleable__content {max-height: 0;max-width: 0;overflow: hidden;text-align: left;background-color: #f0f8ff;}#sk-container-id-2 div.sk-toggleable__content pre {margin: 0.2em;color: black;border-radius: 0.25em;background-color: #f0f8ff;}#sk-container-id-2 input.sk-toggleable__control:checked~div.sk-toggleable__content {max-height: 200px;max-width: 100%;overflow: auto;}#sk-container-id-2 input.sk-toggleable__control:checked~label.sk-toggleable__label-arrow:before {content: \"▾\";}#sk-container-id-2 div.sk-estimator input.sk-toggleable__control:checked~label.sk-toggleable__label {background-color: #d4ebff;}#sk-container-id-2 div.sk-label input.sk-toggleable__control:checked~label.sk-toggleable__label {background-color: #d4ebff;}#sk-container-id-2 input.sk-hidden--visually {border: 0;clip: rect(1px 1px 1px 1px);clip: rect(1px, 1px, 1px, 1px);height: 1px;margin: -1px;overflow: hidden;padding: 0;position: absolute;width: 1px;}#sk-container-id-2 div.sk-estimator {font-family: monospace;background-color: #f0f8ff;border: 1px dotted black;border-radius: 0.25em;box-sizing: border-box;margin-bottom: 0.5em;}#sk-container-id-2 div.sk-estimator:hover {background-color: #d4ebff;}#sk-container-id-2 div.sk-parallel-item::after {content: \"\";width: 100%;border-bottom: 1px solid gray;flex-grow: 1;}#sk-container-id-2 div.sk-label:hover label.sk-toggleable__label {background-color: #d4ebff;}#sk-container-id-2 div.sk-serial::before {content: \"\";position: absolute;border-left: 1px solid gray;box-sizing: border-box;top: 0;bottom: 0;left: 50%;z-index: 0;}#sk-container-id-2 div.sk-serial {display: flex;flex-direction: column;align-items: center;background-color: white;padding-right: 0.2em;padding-left: 0.2em;position: relative;}#sk-container-id-2 div.sk-item {position: relative;z-index: 1;}#sk-container-id-2 div.sk-parallel {display: flex;align-items: stretch;justify-content: center;background-color: white;position: relative;}#sk-container-id-2 div.sk-item::before, #sk-container-id-2 div.sk-parallel-item::before {content: \"\";position: absolute;border-left: 1px solid gray;box-sizing: border-box;top: 0;bottom: 0;left: 50%;z-index: -1;}#sk-container-id-2 div.sk-parallel-item {display: flex;flex-direction: column;z-index: 1;position: relative;background-color: white;}#sk-container-id-2 div.sk-parallel-item:first-child::after {align-self: flex-end;width: 50%;}#sk-container-id-2 div.sk-parallel-item:last-child::after {align-self: flex-start;width: 50%;}#sk-container-id-2 div.sk-parallel-item:only-child::after {width: 0;}#sk-container-id-2 div.sk-dashed-wrapped {border: 1px dashed gray;margin: 0 0.4em 0.5em 0.4em;box-sizing: border-box;padding-bottom: 0.4em;background-color: white;}#sk-container-id-2 div.sk-label label {font-family: monospace;font-weight: bold;display: inline-block;line-height: 1.2em;}#sk-container-id-2 div.sk-label-container {text-align: center;}#sk-container-id-2 div.sk-container {/* jupyter's `normalize.less` sets `[hidden] { display: none; }` but bootstrap.min.css set `[hidden] { display: none !important; }` so we also need the `!important` here to be able to override the default hidden behavior on the sphinx rendered scikit-learn.org. See: https://github.com/scikit-learn/scikit-learn/issues/21755 */display: inline-block !important;position: relative;}#sk-container-id-2 div.sk-text-repr-fallback {display: none;}</style><div id=\"sk-container-id-2\" class=\"sk-top-container\"><div class=\"sk-text-repr-fallback\"><pre>DecisionTreeRegressor()</pre><b>In a Jupyter environment, please rerun this cell to show the HTML representation or trust the notebook. <br />On GitHub, the HTML representation is unable to render, please try loading this page with nbviewer.org.</b></div><div class=\"sk-container\" hidden><div class=\"sk-item\"><div class=\"sk-estimator sk-toggleable\"><input class=\"sk-toggleable__control sk-hidden--visually\" id=\"sk-estimator-id-2\" type=\"checkbox\" checked><label for=\"sk-estimator-id-2\" class=\"sk-toggleable__label sk-toggleable__label-arrow\">DecisionTreeRegressor</label><div class=\"sk-toggleable__content\"><pre>DecisionTreeRegressor()</pre></div></div></div></div></div>"
      ],
      "text/plain": [
       "DecisionTreeRegressor()"
      ]
     },
     "execution_count": 212,
     "metadata": {},
     "output_type": "execute_result"
    }
   ],
   "source": [
    "regressor.base_estimator_"
   ]
  },
  {
   "cell_type": "code",
   "execution_count": 213,
   "id": "a1bbf932",
   "metadata": {},
   "outputs": [
    {
     "data": {
      "text/plain": [
       "array([0.00054649, 0.00059931, 0.00078178, 0.00079623, 0.00103385,\n",
       "       0.0177355 , 0.00133034, 0.0175252 , 0.02748495, 0.01797053,\n",
       "       0.00957551, 0.01001581, 0.01686178, 0.00910782, 0.00877166,\n",
       "       0.03321012, 0.00974332, 0.02744361, 0.02564244, 0.00452797,\n",
       "       0.01266625, 0.0114143 , 0.00467597, 0.00405405, 0.02560811,\n",
       "       0.03020409, 0.02289033, 0.05882087, 0.07861117, 0.12446494,\n",
       "       0.10861879, 0.17246944, 0.10479744])"
      ]
     },
     "execution_count": 213,
     "metadata": {},
     "output_type": "execute_result"
    }
   ],
   "source": [
    "regressor.feature_importances_"
   ]
  },
  {
   "cell_type": "code",
   "execution_count": 214,
   "id": "4287b6a3",
   "metadata": {},
   "outputs": [
    {
     "data": {
      "text/html": [
       "<div>\n",
       "<style scoped>\n",
       "    .dataframe tbody tr th:only-of-type {\n",
       "        vertical-align: middle;\n",
       "    }\n",
       "\n",
       "    .dataframe tbody tr th {\n",
       "        vertical-align: top;\n",
       "    }\n",
       "\n",
       "    .dataframe thead th {\n",
       "        text-align: right;\n",
       "    }\n",
       "</style>\n",
       "<table border=\"1\" class=\"dataframe\">\n",
       "  <thead>\n",
       "    <tr style=\"text-align: right;\">\n",
       "      <th></th>\n",
       "      <th>33d</th>\n",
       "      <th>34d</th>\n",
       "      <th>35d</th>\n",
       "      <th>36d</th>\n",
       "      <th>37d</th>\n",
       "      <th>38d</th>\n",
       "      <th>39d</th>\n",
       "      <th>40d</th>\n",
       "    </tr>\n",
       "  </thead>\n",
       "  <tbody>\n",
       "    <tr>\n",
       "      <th>2014-05-14</th>\n",
       "      <td>239.72</td>\n",
       "      <td>229.425</td>\n",
       "      <td>229.250</td>\n",
       "      <td>222.66</td>\n",
       "      <td>219.070</td>\n",
       "      <td>223.06</td>\n",
       "      <td>219.46</td>\n",
       "      <td>218.13</td>\n",
       "    </tr>\n",
       "    <tr>\n",
       "      <th>2017-05-16</th>\n",
       "      <td>352.62</td>\n",
       "      <td>327.090</td>\n",
       "      <td>308.890</td>\n",
       "      <td>313.22</td>\n",
       "      <td>316.050</td>\n",
       "      <td>327.22</td>\n",
       "      <td>329.52</td>\n",
       "      <td>323.41</td>\n",
       "    </tr>\n",
       "    <tr>\n",
       "      <th>2017-06-20</th>\n",
       "      <td>355.17</td>\n",
       "      <td>365.220</td>\n",
       "      <td>363.525</td>\n",
       "      <td>355.13</td>\n",
       "      <td>357.715</td>\n",
       "      <td>363.80</td>\n",
       "      <td>362.33</td>\n",
       "      <td>362.91</td>\n",
       "    </tr>\n",
       "    <tr>\n",
       "      <th>2014-01-06</th>\n",
       "      <td>217.65</td>\n",
       "      <td>248.000</td>\n",
       "      <td>253.000</td>\n",
       "      <td>252.54</td>\n",
       "      <td>244.810</td>\n",
       "      <td>250.56</td>\n",
       "      <td>254.84</td>\n",
       "      <td>252.66</td>\n",
       "    </tr>\n",
       "    <tr>\n",
       "      <th>2010-10-22</th>\n",
       "      <td>32.05</td>\n",
       "      <td>31.520</td>\n",
       "      <td>30.550</td>\n",
       "      <td>28.53</td>\n",
       "      <td>29.600</td>\n",
       "      <td>30.81</td>\n",
       "      <td>31.36</td>\n",
       "      <td>31.70</td>\n",
       "    </tr>\n",
       "  </tbody>\n",
       "</table>\n",
       "</div>"
      ],
      "text/plain": [
       "               33d      34d      35d     36d      37d     38d     39d     40d\n",
       "2014-05-14  239.72  229.425  229.250  222.66  219.070  223.06  219.46  218.13\n",
       "2017-05-16  352.62  327.090  308.890  313.22  316.050  327.22  329.52  323.41\n",
       "2017-06-20  355.17  365.220  363.525  355.13  357.715  363.80  362.33  362.91\n",
       "2014-01-06  217.65  248.000  253.000  252.54  244.810  250.56  254.84  252.66\n",
       "2010-10-22   32.05   31.520   30.550   28.53   29.600   30.81   31.36   31.70"
      ]
     },
     "execution_count": 214,
     "metadata": {},
     "output_type": "execute_result"
    }
   ],
   "source": [
    "y_test.head()"
   ]
  },
  {
   "cell_type": "code",
   "execution_count": 215,
   "id": "1696c018",
   "metadata": {},
   "outputs": [
    {
     "data": {
      "text/html": [
       "<div>\n",
       "<style scoped>\n",
       "    .dataframe tbody tr th:only-of-type {\n",
       "        vertical-align: middle;\n",
       "    }\n",
       "\n",
       "    .dataframe tbody tr th {\n",
       "        vertical-align: top;\n",
       "    }\n",
       "\n",
       "    .dataframe thead th {\n",
       "        text-align: right;\n",
       "    }\n",
       "</style>\n",
       "<table border=\"1\" class=\"dataframe\">\n",
       "  <thead>\n",
       "    <tr style=\"text-align: right;\">\n",
       "      <th></th>\n",
       "      <th>33d</th>\n",
       "      <th>34d</th>\n",
       "      <th>35d</th>\n",
       "      <th>36d</th>\n",
       "      <th>37d</th>\n",
       "      <th>38d</th>\n",
       "      <th>39d</th>\n",
       "      <th>40d</th>\n",
       "    </tr>\n",
       "  </thead>\n",
       "  <tbody>\n",
       "    <tr>\n",
       "      <th>2015-10-02</th>\n",
       "      <td>221.07</td>\n",
       "      <td>221.80</td>\n",
       "      <td>220.01</td>\n",
       "      <td>217.75</td>\n",
       "      <td>218.25</td>\n",
       "      <td>229.64</td>\n",
       "      <td>231.61</td>\n",
       "      <td>230.26</td>\n",
       "    </tr>\n",
       "    <tr>\n",
       "      <th>2016-05-11</th>\n",
       "      <td>201.79</td>\n",
       "      <td>210.19</td>\n",
       "      <td>212.28</td>\n",
       "      <td>216.50</td>\n",
       "      <td>213.98</td>\n",
       "      <td>214.44</td>\n",
       "      <td>215.94</td>\n",
       "      <td>216.78</td>\n",
       "    </tr>\n",
       "    <tr>\n",
       "      <th>2013-04-18</th>\n",
       "      <td>95.37</td>\n",
       "      <td>97.35</td>\n",
       "      <td>102.04</td>\n",
       "      <td>100.05</td>\n",
       "      <td>94.47</td>\n",
       "      <td>97.73</td>\n",
       "      <td>98.18</td>\n",
       "      <td>100.30</td>\n",
       "    </tr>\n",
       "    <tr>\n",
       "      <th>2011-10-27</th>\n",
       "      <td>28.53</td>\n",
       "      <td>28.62</td>\n",
       "      <td>28.00</td>\n",
       "      <td>27.75</td>\n",
       "      <td>27.90</td>\n",
       "      <td>27.57</td>\n",
       "      <td>27.77</td>\n",
       "      <td>27.90</td>\n",
       "    </tr>\n",
       "    <tr>\n",
       "      <th>2011-08-04</th>\n",
       "      <td>25.85</td>\n",
       "      <td>25.63</td>\n",
       "      <td>26.38</td>\n",
       "      <td>25.52</td>\n",
       "      <td>26.19</td>\n",
       "      <td>24.59</td>\n",
       "      <td>24.12</td>\n",
       "      <td>24.39</td>\n",
       "    </tr>\n",
       "  </tbody>\n",
       "</table>\n",
       "</div>"
      ],
      "text/plain": [
       "               33d     34d     35d     36d     37d     38d     39d     40d\n",
       "2015-10-02  221.07  221.80  220.01  217.75  218.25  229.64  231.61  230.26\n",
       "2016-05-11  201.79  210.19  212.28  216.50  213.98  214.44  215.94  216.78\n",
       "2013-04-18   95.37   97.35  102.04  100.05   94.47   97.73   98.18  100.30\n",
       "2011-10-27   28.53   28.62   28.00   27.75   27.90   27.57   27.77   27.90\n",
       "2011-08-04   25.85   25.63   26.38   25.52   26.19   24.59   24.12   24.39"
      ]
     },
     "execution_count": 215,
     "metadata": {},
     "output_type": "execute_result"
    }
   ],
   "source": [
    "y_test.tail()"
   ]
  },
  {
   "cell_type": "code",
   "execution_count": 216,
   "id": "eb130dbf",
   "metadata": {},
   "outputs": [
    {
     "name": "stderr",
     "output_type": "stream",
     "text": [
      "[Parallel(n_jobs=8)]: Using backend ThreadingBackend with 8 concurrent workers.\n",
      "[Parallel(n_jobs=8)]: Done  34 tasks      | elapsed:    0.0s\n",
      "[Parallel(n_jobs=8)]: Done 100 out of 100 | elapsed:    0.0s finished\n"
     ]
    }
   ],
   "source": [
    "y_pred = regressor.predict(X_test)"
   ]
  },
  {
   "cell_type": "code",
   "execution_count": 217,
   "id": "480d1add",
   "metadata": {},
   "outputs": [
    {
     "name": "stderr",
     "output_type": "stream",
     "text": [
      "No artists with labels found to put in legend.  Note that artists whose label start with an underscore are ignored when legend() is called with no argument.\n"
     ]
    },
    {
     "data": {
      "image/png": "[encoded data removed]",
      "text/plain": [
       "<Figure size 1600x800 with 1 Axes>"
      ]
     },
     "metadata": {},
     "output_type": "display_data"
    }
   ],
   "source": [
    "# Plot the time series data for y_pred and y_test\n",
    "fig, ax = plt.subplots()\n",
    "fig.subplots_adjust(bottom = 0.3)\n",
    "\n",
    "fig.set_figwidth(16)\n",
    "fig.set_figheight(8)\n",
    "\n",
    "ax.plot(y_test.index, y_test['40d'], 'ro')\n",
    "ax.plot(y_test.index, y_pred[:, 7], 'bo')\n",
    "\n",
    "ax.legend()\n",
    "\n",
    "plt.xticks(rotation = 70)\n",
    "plt.tight_layout()\n",
    "plt.show()"
   ]
  },
  {
   "cell_type": "code",
   "execution_count": 218,
   "id": "00883a95",
   "metadata": {},
   "outputs": [
    {
     "data": {
      "text/plain": [
       "['rf_regressor.joblib']"
      ]
     },
     "execution_count": 218,
     "metadata": {},
     "output_type": "execute_result"
    }
   ],
   "source": [
    "# Save the model for the future predictions\n",
    "from joblib import dump\n",
    "dump(regressor, 'rf_regressor.joblib')"
   ]
  },
  {
   "cell_type": "code",
   "execution_count": null,
   "id": "743b5275",
   "metadata": {},
   "outputs": [],
   "source": []
  }
 ],
 "metadata": {
  "kernelspec": {
   "display_name": "TradingProject",
   "language": "python",
   "name": "python3"
  },
  "language_info": {
   "codemirror_mode": {
    "name": "ipython",
    "version": 3
   },
   "file_extension": ".py",
   "mimetype": "text/x-python",
   "name": "python",
   "nbconvert_exporter": "python",
   "pygments_lexer": "ipython3",
   "version": "3.9.17"
  }
 },
 "nbformat": 4,
 "nbformat_minor": 5
}
