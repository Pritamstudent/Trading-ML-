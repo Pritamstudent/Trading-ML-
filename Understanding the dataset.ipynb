{
 "cells": [
  {
   "cell_type": "code",
   "execution_count": 37,
   "id": "bf110936",
   "metadata": {},
   "outputs": [
    {
     "name": "stderr",
     "output_type": "stream",
     "text": [
      "UsageError: Line magic function `%` not found.\n"
     ]
    }
   ],
   "source": [
    "import pandas as pd\n",
    "import numpy as np\n",
    "import matplotlib.pyplot as plt\n",
    "% matplotlib inline"
   ]
  },
  {
   "cell_type": "code",
   "execution_count": 55,
   "id": "c1fb9a58",
   "metadata": {},
   "outputs": [
    {
     "name": "stdout",
     "output_type": "stream",
     "text": [
      "Requirement already satisfied: pandas in e:\\python\\envs\\trading\\lib\\site-packages (1.2.4)\n",
      "Requirement already satisfied: python-dateutil>=2.7.3 in e:\\python\\envs\\trading\\lib\\site-packages (from pandas) (2.8.2)\n",
      "Requirement already satisfied: pytz>=2017.3 in e:\\python\\envs\\trading\\lib\\site-packages (from pandas) (2022.7)\n",
      "Requirement already satisfied: numpy>=1.16.5 in e:\\python\\envs\\trading\\lib\\site-packages (from pandas) (1.24.2)\n",
      "Requirement already satisfied: six>=1.5 in e:\\python\\envs\\trading\\lib\\site-packages (from python-dateutil>=2.7.3->pandas) (1.16.0)\n",
      "Requirement already satisfied: trading_calendars==2.0.0 in e:\\python\\envs\\trading\\lib\\site-packages (2.0.0)\n",
      "Requirement already satisfied: numpy in e:\\python\\envs\\trading\\lib\\site-packages (from trading_calendars==2.0.0) (1.24.2)\n",
      "Requirement already satisfied: pandas in e:\\python\\envs\\trading\\lib\\site-packages (from trading_calendars==2.0.0) (1.2.4)\n",
      "Requirement already satisfied: pytz in e:\\python\\envs\\trading\\lib\\site-packages (from trading_calendars==2.0.0) (2022.7)\n",
      "Requirement already satisfied: toolz in e:\\python\\envs\\trading\\lib\\site-packages (from trading_calendars==2.0.0) (0.12.0)\n",
      "Requirement already satisfied: python-dateutil>=2.7.3 in e:\\python\\envs\\trading\\lib\\site-packages (from pandas->trading_calendars==2.0.0) (2.8.2)\n",
      "Requirement already satisfied: six>=1.5 in e:\\python\\envs\\trading\\lib\\site-packages (from python-dateutil>=2.7.3->pandas->trading_calendars==2.0.0) (1.16.0)\n",
      "Requirement already satisfied: numpy==1.24.2 in e:\\python\\envs\\trading\\lib\\site-packages (1.24.2)\n",
      "Requirement already satisfied: pandas==1.2.4 in e:\\python\\envs\\trading\\lib\\site-packages (1.2.4)\n",
      "Requirement already satisfied: python-dateutil>=2.7.3 in e:\\python\\envs\\trading\\lib\\site-packages (from pandas==1.2.4) (2.8.2)\n",
      "Requirement already satisfied: pytz>=2017.3 in e:\\python\\envs\\trading\\lib\\site-packages (from pandas==1.2.4) (2022.7)\n",
      "Requirement already satisfied: numpy>=1.16.5 in e:\\python\\envs\\trading\\lib\\site-packages (from pandas==1.2.4) (1.24.2)\n",
      "Requirement already satisfied: six>=1.5 in e:\\python\\envs\\trading\\lib\\site-packages (from python-dateutil>=2.7.3->pandas==1.2.4) (1.16.0)\n"
     ]
    }
   ],
   "source": [
    "!pip install pandas\n",
    "from zipline.data.data_portal import DataPortal\n",
    "from zipline.data import bundles\n",
    "!pip install trading_calendars==2.0.0\n",
    "!pip install numpy==1.24.2\n",
    "!pip install pandas==1.2.4\n",
    "from zipline.utils.calendar_utils import register_calendar, get_calendar"
   ]
  },
  {
   "cell_type": "code",
   "execution_count": 56,
   "id": "34c37e9d",
   "metadata": {},
   "outputs": [],
   "source": [
    "bundle_data = bundles.load(\"quandl\")"
   ]
  },
  {
   "cell_type": "code",
   "execution_count": 57,
   "id": "1bda2d64",
   "metadata": {},
   "outputs": [
    {
     "name": "stdout",
     "output_type": "stream",
     "text": [
      "<class 'zipline.data.bundles.core.BundleData'>\n"
     ]
    }
   ],
   "source": [
    "print(type(bundle_data))"
   ]
  },
  {
   "cell_type": "code",
   "execution_count": 58,
   "id": "9addb18e",
   "metadata": {},
   "outputs": [],
   "source": [
    "end_date = pd.Timestamp(\"2014-01-01\", tz = \"utc\")\n"
   ]
  },
  {
   "cell_type": "code",
   "execution_count": 42,
   "id": "bd16d460-b49e-4596-b46f-afc0d2c6153d",
   "metadata": {},
   "outputs": [
    {
     "data": {
      "text/plain": [
       "Timestamp('1990-01-02 00:00:00')"
      ]
     },
     "execution_count": 42,
     "metadata": {},
     "output_type": "execute_result"
    }
   ],
   "source": [
    "bundle_data.equity_daily_bar_reader.first_trading_day"
   ]
  },
  {
   "cell_type": "code",
   "execution_count": 59,
   "id": "fde4c1cb",
   "metadata": {
    "scrolled": true
   },
   "outputs": [
    {
     "name": "stdout",
     "output_type": "stream",
     "text": [
      "Calendar instance in module: 2453079503424\n",
      "Calendar instance in get_calendar(): 2453104047968\n"
     ]
    }
   ],
   "source": [
    "trading_calendar = get_calendar(\"NYSE\")\n",
    "print(\"Calendar instance in module:\", id(trading_calendars.exchange_calendar_xnys.XNYSExchangeCalendar))\n",
    "print(\"Calendar instance in get_calendar():\", id(get_calendar(\"NYSE\")))\n",
    "#print(\"Trading Calendar:\", trading_calendar)\n",
    "#print(\"Asset Finder Calendar:\", bundle_data.asset_finder)\n",
    "#print(bundle_data.equity_daily_bar_reader.first_trading_day)\n",
    "#print(\"Reader Calendar:\", bundle_data.equity_daily_bar_reader.trading_calendar)\n",
    "data_por = DataPortal(\n",
    "    asset_finder = bundle_data.asset_finder,\n",
    "    first_trading_day = bundle_data.equity_daily_bar_reader.first_trading_day,\n",
    "    equity_daily_reader = bundle_data.equity_daily_bar_reader,\n",
    "    trading_calendar=trading_calendar,\n",
    ")\n"
   ]
  },
  {
   "cell_type": "code",
   "execution_count": 60,
   "id": "2c049177",
   "metadata": {},
   "outputs": [],
   "source": [
    "TSLA = data_por.asset_finder.lookup_symbol(\n",
    "    \"TSLA\",\n",
    "    as_of_date = None\n",
    "\n",
    ")"
   ]
  },
  {
   "cell_type": "markdown",
   "id": "9adc6021",
   "metadata": {},
   "source": [
    "data_por: This is an instance of the DataPortal class that you've created. It contains various attributes and methods to interact with financial data, including asset-related data.\n",
    "\n",
    "asset_finder: This is a part of the DataPortal that allows you to look up assets based on their identifiers (e.g., symbols). The lookup_symbol() method is used to perform such a lookup.\n",
    "\n",
    "\"TSLA\": This is the symbol of the asset you want to look up. In this case, you're looking up an asset with the symbol \"TSLA,\" which typically refers to Tesla, Inc.\n",
    "\n",
    "as_of_date=None: This parameter specifies the date at which you want to look up the asset. If you set it to None, it means you want to look up the asset as of the latest date available in your data. If you specify a date, the method will return the asset information available on that specific date.\n",
    "\n",
    "The lookup_symbol() method returns an Asset object that represents the asset with the given symbol. This Asset object contains various properties and metadata related to the asset, such as its unique identifier, symbol, start and end dates, and more. You can use this Asset object to reference the asset in various parts of your trading algorithm."
   ]
  },
  {
   "cell_type": "code",
   "execution_count": 77,
   "id": "7797d952",
   "metadata": {},
   "outputs": [],
   "source": [
    "df = data_por.get_history_window(\n",
    "    assets = [TSLA],\n",
    "    end_dt = end_date,\n",
    "    bar_count = 31 *12,\n",
    "    frequency= '1d',\n",
    "    data_frequency = 'daily',\n",
    "    field = 'open'\n",
    "\n",
    ")"
   ]
  },
  {
   "cell_type": "markdown",
   "id": "2a1d15af",
   "metadata": {},
   "source": [
    "assets: This is a list of asset objects for which you want to retrieve historical data. In your case, you're using [TSLA], which is a list containing the Asset object representing the asset with the symbol \"TSLA\" that you obtained using the lookup_symbol() method.\n",
    "\n",
    "end_dt: This is the end date of the historical data window. The retrieved data will cover a period leading up to this end date.\n",
    "\n",
    "bar_count: The number of bars (data points) you want to retrieve in the historical data window. In your code, it seems you're trying to retrieve the data for the past 31 months (31 * 12).\n",
    "\n",
    "frequency: The frequency of the data you want to retrieve. In your case, '1d' indicates that you want daily data.\n",
    "\n",
    "data_frequency: This specifies the frequency of the data you want to retrieve. Since you're retrieving daily data, 'daily' is appropriate here.\n",
    "\n",
    "field: This parameter specifies which field of the historical data you want to retrieve. In your case, 'open' indicates that you want to retrieve the opening prices for the specified assets.\n",
    "\n",
    "The get_history_window() method returns a Pandas DataFrame containing the historical data for the specified asset(s) according to the provided parameters. The DataFrame will have columns corresponding to the requested fields (in this case, 'open') and rows corresponding to the specified date range and frequency. You can use this DataFrame to analyze and manipulate the historical data in your trading algorithm."
   ]
  },
  {
   "cell_type": "code",
   "execution_count": 78,
   "id": "c1c3e97c",
   "metadata": {},
   "outputs": [
    {
     "data": {
      "text/html": [
       "<div>\n",
       "<style scoped>\n",
       "    .dataframe tbody tr th:only-of-type {\n",
       "        vertical-align: middle;\n",
       "    }\n",
       "\n",
       "    .dataframe tbody tr th {\n",
       "        vertical-align: top;\n",
       "    }\n",
       "\n",
       "    .dataframe thead th {\n",
       "        text-align: right;\n",
       "    }\n",
       "</style>\n",
       "<table border=\"1\" class=\"dataframe\">\n",
       "  <thead>\n",
       "    <tr style=\"text-align: right;\">\n",
       "      <th></th>\n",
       "      <th>Equity(2862 [TSLA])</th>\n",
       "    </tr>\n",
       "  </thead>\n",
       "  <tbody>\n",
       "    <tr>\n",
       "      <th>2012-07-11</th>\n",
       "      <td>31.57</td>\n",
       "    </tr>\n",
       "    <tr>\n",
       "      <th>2012-07-12</th>\n",
       "      <td>31.29</td>\n",
       "    </tr>\n",
       "    <tr>\n",
       "      <th>2012-07-13</th>\n",
       "      <td>32.97</td>\n",
       "    </tr>\n",
       "    <tr>\n",
       "      <th>2012-07-16</th>\n",
       "      <td>34.32</td>\n",
       "    </tr>\n",
       "    <tr>\n",
       "      <th>2012-07-17</th>\n",
       "      <td>35.00</td>\n",
       "    </tr>\n",
       "  </tbody>\n",
       "</table>\n",
       "</div>"
      ],
      "text/plain": [
       "            Equity(2862 [TSLA])\n",
       "2012-07-11                31.57\n",
       "2012-07-12                31.29\n",
       "2012-07-13                32.97\n",
       "2012-07-16                34.32\n",
       "2012-07-17                35.00"
      ]
     },
     "execution_count": 78,
     "metadata": {},
     "output_type": "execute_result"
    }
   ],
   "source": [
    "df.head()"
   ]
  },
  {
   "cell_type": "code",
   "execution_count": 79,
   "id": "7ae6acea",
   "metadata": {},
   "outputs": [
    {
     "data": {
      "text/html": [
       "<div>\n",
       "<style scoped>\n",
       "    .dataframe tbody tr th:only-of-type {\n",
       "        vertical-align: middle;\n",
       "    }\n",
       "\n",
       "    .dataframe tbody tr th {\n",
       "        vertical-align: top;\n",
       "    }\n",
       "\n",
       "    .dataframe thead th {\n",
       "        text-align: right;\n",
       "    }\n",
       "</style>\n",
       "<table border=\"1\" class=\"dataframe\">\n",
       "  <thead>\n",
       "    <tr style=\"text-align: right;\">\n",
       "      <th></th>\n",
       "      <th>Equity(2862 [TSLA])</th>\n",
       "    </tr>\n",
       "  </thead>\n",
       "  <tbody>\n",
       "    <tr>\n",
       "      <th>count</th>\n",
       "      <td>372.000000</td>\n",
       "    </tr>\n",
       "    <tr>\n",
       "      <th>mean</th>\n",
       "      <td>80.908043</td>\n",
       "    </tr>\n",
       "    <tr>\n",
       "      <th>std</th>\n",
       "      <td>55.761556</td>\n",
       "    </tr>\n",
       "    <tr>\n",
       "      <th>min</th>\n",
       "      <td>26.840000</td>\n",
       "    </tr>\n",
       "    <tr>\n",
       "      <th>25%</th>\n",
       "      <td>32.780000</td>\n",
       "    </tr>\n",
       "    <tr>\n",
       "      <th>50%</th>\n",
       "      <td>42.730000</td>\n",
       "    </tr>\n",
       "    <tr>\n",
       "      <th>75%</th>\n",
       "      <td>136.442500</td>\n",
       "    </tr>\n",
       "    <tr>\n",
       "      <th>max</th>\n",
       "      <td>193.960000</td>\n",
       "    </tr>\n",
       "  </tbody>\n",
       "</table>\n",
       "</div>"
      ],
      "text/plain": [
       "       Equity(2862 [TSLA])\n",
       "count           372.000000\n",
       "mean             80.908043\n",
       "std              55.761556\n",
       "min              26.840000\n",
       "25%              32.780000\n",
       "50%              42.730000\n",
       "75%             136.442500\n",
       "max             193.960000"
      ]
     },
     "execution_count": 79,
     "metadata": {},
     "output_type": "execute_result"
    }
   ],
   "source": [
    "df.describe()"
   ]
  },
  {
   "cell_type": "code",
   "execution_count": 80,
   "id": "ef743d7f",
   "metadata": {},
   "outputs": [],
   "source": [
    "df.index = pd.DatetimeIndex(df.index)"
   ]
  },
  {
   "cell_type": "markdown",
   "id": "45a40c84",
   "metadata": {},
   "source": [
    "df: This is the DataFrame containing historical data that you obtained using the get_history_window() method.\n",
    "\n",
    "df.index: This retrieves the current index of the DataFrame, which is likely a regular index.\n",
    "\n",
    "pd.DatetimeIndex(df.index): This creates a new DatetimeIndex object from the existing index of the DataFrame. It converts the index values to datetime objects if they are not already."
   ]
  },
  {
   "cell_type": "code",
   "execution_count": 81,
   "id": "6de82d30",
   "metadata": {},
   "outputs": [
    {
     "data": {
      "text/plain": [
       "DatetimeIndex(['2012-07-11', '2012-07-12', '2012-07-13', '2012-07-16',\n",
       "               '2012-07-17', '2012-07-18', '2012-07-19', '2012-07-20',\n",
       "               '2012-07-23', '2012-07-24',\n",
       "               ...\n",
       "               '2013-12-18', '2013-12-19', '2013-12-20', '2013-12-23',\n",
       "               '2013-12-24', '2013-12-26', '2013-12-27', '2013-12-30',\n",
       "               '2013-12-31', '2014-01-02'],\n",
       "              dtype='datetime64[ns]', length=372, freq='C')"
      ]
     },
     "execution_count": 81,
     "metadata": {},
     "output_type": "execute_result"
    }
   ],
   "source": [
    "df.index"
   ]
  },
  {
   "cell_type": "code",
   "execution_count": 82,
   "id": "c01838aa",
   "metadata": {},
   "outputs": [
    {
     "data": {
      "text/plain": [
       "Equity(2862 [TSLA])"
      ]
     },
     "execution_count": 82,
     "metadata": {},
     "output_type": "execute_result"
    }
   ],
   "source": [
    "list(df.columns)[0]"
   ]
  },
  {
   "cell_type": "code",
   "execution_count": 83,
   "id": "b3adcc06",
   "metadata": {},
   "outputs": [],
   "source": [
    "df['open'] = df[list(df.columns)[0]]"
   ]
  },
  {
   "cell_type": "code",
   "execution_count": 84,
   "id": "aa96e1e3",
   "metadata": {},
   "outputs": [
    {
     "data": {
      "text/plain": [
       "2012-07-11     31.57\n",
       "2012-07-12     31.29\n",
       "2012-07-13     32.97\n",
       "2012-07-16     34.32\n",
       "2012-07-17     35.00\n",
       "               ...  \n",
       "2013-12-26    155.04\n",
       "2013-12-27    155.30\n",
       "2013-12-30    151.12\n",
       "2013-12-31    152.32\n",
       "2014-01-02    149.80\n",
       "Freq: C, Name: open, Length: 372, dtype: float64"
      ]
     },
     "execution_count": 84,
     "metadata": {},
     "output_type": "execute_result"
    }
   ],
   "source": [
    "df['open']"
   ]
  },
  {
   "cell_type": "code",
   "execution_count": 85,
   "id": "fad991d1",
   "metadata": {},
   "outputs": [
    {
     "data": {
      "text/html": [
       "<div>\n",
       "<style scoped>\n",
       "    .dataframe tbody tr th:only-of-type {\n",
       "        vertical-align: middle;\n",
       "    }\n",
       "\n",
       "    .dataframe tbody tr th {\n",
       "        vertical-align: top;\n",
       "    }\n",
       "\n",
       "    .dataframe thead th {\n",
       "        text-align: right;\n",
       "    }\n",
       "</style>\n",
       "<table border=\"1\" class=\"dataframe\">\n",
       "  <thead>\n",
       "    <tr style=\"text-align: right;\">\n",
       "      <th></th>\n",
       "      <th>Equity(2862 [TSLA])</th>\n",
       "      <th>open</th>\n",
       "    </tr>\n",
       "  </thead>\n",
       "  <tbody>\n",
       "    <tr>\n",
       "      <th>2012-07-11</th>\n",
       "      <td>31.57</td>\n",
       "      <td>31.57</td>\n",
       "    </tr>\n",
       "    <tr>\n",
       "      <th>2012-07-12</th>\n",
       "      <td>31.29</td>\n",
       "      <td>31.29</td>\n",
       "    </tr>\n",
       "    <tr>\n",
       "      <th>2012-07-13</th>\n",
       "      <td>32.97</td>\n",
       "      <td>32.97</td>\n",
       "    </tr>\n",
       "    <tr>\n",
       "      <th>2012-07-16</th>\n",
       "      <td>34.32</td>\n",
       "      <td>34.32</td>\n",
       "    </tr>\n",
       "    <tr>\n",
       "      <th>2012-07-17</th>\n",
       "      <td>35.00</td>\n",
       "      <td>35.00</td>\n",
       "    </tr>\n",
       "  </tbody>\n",
       "</table>\n",
       "</div>"
      ],
      "text/plain": [
       "            Equity(2862 [TSLA])   open\n",
       "2012-07-11                31.57  31.57\n",
       "2012-07-12                31.29  31.29\n",
       "2012-07-13                32.97  32.97\n",
       "2012-07-16                34.32  34.32\n",
       "2012-07-17                35.00  35.00"
      ]
     },
     "execution_count": 85,
     "metadata": {},
     "output_type": "execute_result"
    }
   ],
   "source": [
    "df.head()"
   ]
  },
  {
   "cell_type": "code",
   "execution_count": 91,
   "id": "63106551",
   "metadata": {},
   "outputs": [],
   "source": [
    "df = df.drop(columns = [list(df.columns)[0]] )"
   ]
  },
  {
   "cell_type": "code",
   "execution_count": 92,
   "id": "c5a1fe9e",
   "metadata": {},
   "outputs": [
    {
     "data": {
      "text/plain": [
       "Index(['open'], dtype='object')"
      ]
     },
     "execution_count": 92,
     "metadata": {},
     "output_type": "execute_result"
    }
   ],
   "source": [
    "df.columns "
   ]
  },
  {
   "cell_type": "code",
   "execution_count": 93,
   "id": "59e939b0",
   "metadata": {},
   "outputs": [
    {
     "data": {
      "text/html": [
       "<div>\n",
       "<style scoped>\n",
       "    .dataframe tbody tr th:only-of-type {\n",
       "        vertical-align: middle;\n",
       "    }\n",
       "\n",
       "    .dataframe tbody tr th {\n",
       "        vertical-align: top;\n",
       "    }\n",
       "\n",
       "    .dataframe thead th {\n",
       "        text-align: right;\n",
       "    }\n",
       "</style>\n",
       "<table border=\"1\" class=\"dataframe\">\n",
       "  <thead>\n",
       "    <tr style=\"text-align: right;\">\n",
       "      <th></th>\n",
       "      <th>open</th>\n",
       "    </tr>\n",
       "  </thead>\n",
       "  <tbody>\n",
       "    <tr>\n",
       "      <th>2012-07-11</th>\n",
       "      <td>31.57</td>\n",
       "    </tr>\n",
       "    <tr>\n",
       "      <th>2012-07-12</th>\n",
       "      <td>31.29</td>\n",
       "    </tr>\n",
       "    <tr>\n",
       "      <th>2012-07-13</th>\n",
       "      <td>32.97</td>\n",
       "    </tr>\n",
       "    <tr>\n",
       "      <th>2012-07-16</th>\n",
       "      <td>34.32</td>\n",
       "    </tr>\n",
       "    <tr>\n",
       "      <th>2012-07-17</th>\n",
       "      <td>35.00</td>\n",
       "    </tr>\n",
       "  </tbody>\n",
       "</table>\n",
       "</div>"
      ],
      "text/plain": [
       "             open\n",
       "2012-07-11  31.57\n",
       "2012-07-12  31.29\n",
       "2012-07-13  32.97\n",
       "2012-07-16  34.32\n",
       "2012-07-17  35.00"
      ]
     },
     "execution_count": 93,
     "metadata": {},
     "output_type": "execute_result"
    }
   ],
   "source": [
    "df.head()"
   ]
  },
  {
   "cell_type": "code",
   "execution_count": 94,
   "id": "84c2f102",
   "metadata": {},
   "outputs": [],
   "source": [
    "df['close'] = data_por.get_history_window(\n",
    "    assets = [TSLA],\n",
    "    end_dt = end_date,\n",
    "    bar_count = 31 *12,\n",
    "    frequency= '1d',\n",
    "    data_frequency = 'daily',\n",
    "    field = 'close'\n",
    "\n",
    ")"
   ]
  },
  {
   "cell_type": "code",
   "execution_count": 95,
   "id": "bf99d39c",
   "metadata": {},
   "outputs": [],
   "source": [
    "df['low'] = data_por.get_history_window(\n",
    "    assets = [TSLA],\n",
    "    end_dt = end_date,\n",
    "    bar_count = 31 *12,\n",
    "    frequency= '1d',\n",
    "    data_frequency = 'daily',\n",
    "    field = 'low'\n",
    "\n",
    ")"
   ]
  },
  {
   "cell_type": "code",
   "execution_count": 96,
   "id": "8d5edbeb",
   "metadata": {},
   "outputs": [],
   "source": [
    "df['high'] = data_por.get_history_window(\n",
    "    assets = [TSLA],\n",
    "    end_dt = end_date,\n",
    "    bar_count = 31 *12,\n",
    "    frequency= '1d',\n",
    "    data_frequency = 'daily',\n",
    "    field = 'high'\n",
    "\n",
    ")"
   ]
  },
  {
   "cell_type": "code",
   "execution_count": 97,
   "id": "98c198d0",
   "metadata": {},
   "outputs": [
    {
     "data": {
      "text/html": [
       "<div>\n",
       "<style scoped>\n",
       "    .dataframe tbody tr th:only-of-type {\n",
       "        vertical-align: middle;\n",
       "    }\n",
       "\n",
       "    .dataframe tbody tr th {\n",
       "        vertical-align: top;\n",
       "    }\n",
       "\n",
       "    .dataframe thead th {\n",
       "        text-align: right;\n",
       "    }\n",
       "</style>\n",
       "<table border=\"1\" class=\"dataframe\">\n",
       "  <thead>\n",
       "    <tr style=\"text-align: right;\">\n",
       "      <th></th>\n",
       "      <th>open</th>\n",
       "      <th>close</th>\n",
       "      <th>low</th>\n",
       "      <th>high</th>\n",
       "    </tr>\n",
       "  </thead>\n",
       "  <tbody>\n",
       "    <tr>\n",
       "      <th>2012-07-11</th>\n",
       "      <td>31.57</td>\n",
       "      <td>31.51</td>\n",
       "      <td>31.01</td>\n",
       "      <td>31.68</td>\n",
       "    </tr>\n",
       "    <tr>\n",
       "      <th>2012-07-12</th>\n",
       "      <td>31.29</td>\n",
       "      <td>32.70</td>\n",
       "      <td>30.80</td>\n",
       "      <td>33.01</td>\n",
       "    </tr>\n",
       "    <tr>\n",
       "      <th>2012-07-13</th>\n",
       "      <td>32.97</td>\n",
       "      <td>34.25</td>\n",
       "      <td>32.83</td>\n",
       "      <td>34.40</td>\n",
       "    </tr>\n",
       "    <tr>\n",
       "      <th>2012-07-16</th>\n",
       "      <td>34.32</td>\n",
       "      <td>35.96</td>\n",
       "      <td>33.90</td>\n",
       "      <td>36.00</td>\n",
       "    </tr>\n",
       "    <tr>\n",
       "      <th>2012-07-17</th>\n",
       "      <td>35.00</td>\n",
       "      <td>33.35</td>\n",
       "      <td>32.38</td>\n",
       "      <td>35.21</td>\n",
       "    </tr>\n",
       "  </tbody>\n",
       "</table>\n",
       "</div>"
      ],
      "text/plain": [
       "             open  close    low   high\n",
       "2012-07-11  31.57  31.51  31.01  31.68\n",
       "2012-07-12  31.29  32.70  30.80  33.01\n",
       "2012-07-13  32.97  34.25  32.83  34.40\n",
       "2012-07-16  34.32  35.96  33.90  36.00\n",
       "2012-07-17  35.00  33.35  32.38  35.21"
      ]
     },
     "execution_count": 97,
     "metadata": {},
     "output_type": "execute_result"
    }
   ],
   "source": [
    "df.head()"
   ]
  },
  {
   "cell_type": "code",
   "execution_count": 98,
   "id": "5e18f3f6",
   "metadata": {},
   "outputs": [
    {
     "data": {
      "text/html": [
       "<div>\n",
       "<style scoped>\n",
       "    .dataframe tbody tr th:only-of-type {\n",
       "        vertical-align: middle;\n",
       "    }\n",
       "\n",
       "    .dataframe tbody tr th {\n",
       "        vertical-align: top;\n",
       "    }\n",
       "\n",
       "    .dataframe thead th {\n",
       "        text-align: right;\n",
       "    }\n",
       "</style>\n",
       "<table border=\"1\" class=\"dataframe\">\n",
       "  <thead>\n",
       "    <tr style=\"text-align: right;\">\n",
       "      <th></th>\n",
       "      <th>open</th>\n",
       "      <th>close</th>\n",
       "      <th>low</th>\n",
       "      <th>high</th>\n",
       "    </tr>\n",
       "  </thead>\n",
       "  <tbody>\n",
       "    <tr>\n",
       "      <th>2013-12-26</th>\n",
       "      <td>155.04</td>\n",
       "      <td>155.500</td>\n",
       "      <td>154.290</td>\n",
       "      <td>158.000</td>\n",
       "    </tr>\n",
       "    <tr>\n",
       "      <th>2013-12-27</th>\n",
       "      <td>155.30</td>\n",
       "      <td>151.120</td>\n",
       "      <td>150.800</td>\n",
       "      <td>155.500</td>\n",
       "    </tr>\n",
       "    <tr>\n",
       "      <th>2013-12-30</th>\n",
       "      <td>151.12</td>\n",
       "      <td>152.440</td>\n",
       "      <td>150.750</td>\n",
       "      <td>154.810</td>\n",
       "    </tr>\n",
       "    <tr>\n",
       "      <th>2013-12-31</th>\n",
       "      <td>152.32</td>\n",
       "      <td>150.429</td>\n",
       "      <td>148.661</td>\n",
       "      <td>153.200</td>\n",
       "    </tr>\n",
       "    <tr>\n",
       "      <th>2014-01-02</th>\n",
       "      <td>149.80</td>\n",
       "      <td>150.100</td>\n",
       "      <td>146.550</td>\n",
       "      <td>152.477</td>\n",
       "    </tr>\n",
       "  </tbody>\n",
       "</table>\n",
       "</div>"
      ],
      "text/plain": [
       "              open    close      low     high\n",
       "2013-12-26  155.04  155.500  154.290  158.000\n",
       "2013-12-27  155.30  151.120  150.800  155.500\n",
       "2013-12-30  151.12  152.440  150.750  154.810\n",
       "2013-12-31  152.32  150.429  148.661  153.200\n",
       "2014-01-02  149.80  150.100  146.550  152.477"
      ]
     },
     "execution_count": 98,
     "metadata": {},
     "output_type": "execute_result"
    }
   ],
   "source": [
    "df.tail()"
   ]
  },
  {
   "cell_type": "code",
   "execution_count": 99,
   "id": "1985410b",
   "metadata": {},
   "outputs": [],
   "source": [
    "from zipline.data.data_portal import OHLCV_FIELDS"
   ]
  },
  {
   "cell_type": "markdown",
   "id": "e6573e71",
   "metadata": {},
   "source": [
    "from zipline.data.data_portal: This is the import statement that specifies the module from which you want to import the OHLCV_FIELDS constant.\n",
    "\n",
    "OHLCV_FIELDS: This is the constant itself. It's a tuple containing string values that represent the standard fields used in financial data analysis. The fields included in OHLCV_FIELDS are typically Open, High, Low, Close, and Volume, which are key data points when analyzing historical price data."
   ]
  },
  {
   "cell_type": "code",
   "execution_count": 100,
   "id": "526c70c3",
   "metadata": {},
   "outputs": [
    {
     "name": "stdout",
     "output_type": "stream",
     "text": [
      "frozenset({'open', 'low', 'volume', 'close', 'high'})\n"
     ]
    }
   ],
   "source": [
    "print(OHLCV_FIELDS)"
   ]
  },
  {
   "cell_type": "code",
   "execution_count": 103,
   "id": "aa403c3f",
   "metadata": {},
   "outputs": [
    {
     "data": {
      "image/png": "[encoded data removed]",
      "text/plain": [
       "<Figure size 800x480 with 1 Axes>"
      ]
     },
     "metadata": {},
     "output_type": "display_data"
    }
   ],
   "source": [
    "from matplotlib.dates import MonthLocator, date2num, DateFormatter\n",
    "\n",
    "fig, ax = plt.subplots()\n",
    "\n",
    "fig.subplots_adjust(bottom = 0.3)\n",
    "\n",
    "fig.set_figwidth(15)\n",
    "fig.set_figwidth(8)\n",
    "\n",
    "ax.plot(df.index, df.open, label = 'open')\n",
    "ax.plot(df.index, df.close, label = 'close')\n",
    "\n",
    "lctr = MonthLocator() # This to iterate over each month\n",
    "frmt = DateFormatter('%b') # %d gives us Jan, feb, mar etc\n",
    "\n",
    "ax.xaxis.set_major_locator(lctr)\n",
    "ax.xaxis.set_major_formatter(frmt)\n",
    "\n",
    "ax.legend()\n",
    "\n",
    "plt.xticks(rotation = 70)\n",
    "plt.tight_layout()\n",
    "plt.show()"
   ]
  },
  {
   "cell_type": "markdown",
   "id": "2573e174",
   "metadata": {},
   "source": [
    "fig, ax = plt.subplots(): This creates a figure and a subplot within the figure. The subplot will be referred to as ax for further customization.\n",
    "\n",
    "fig.subplots_adjust(bottom=0.3): This adjusts the bottom margin of the subplot to accommodate x-axis labels or other annotations.\n",
    "\n",
    "fig.set_figwidth(15) and fig.set_figheight(8): These lines set the width and height of the figure.\n",
    "\n",
    "ax.plot(df.index, df.open, label='Open'): This plots the open prices from the DataFrame df against the datetime index. The label parameter is used to identify the series in the legend.\n",
    "\n",
    "ax.plot(df.index, df.close, label='Close'): This plots the close prices from the DataFrame df against the datetime index.\n",
    "\n",
    "lctr = MonthLocator() and frmt = DateFormatter('%b'): These lines create a MonthLocator and a DateFormatter to format the x-axis tick labels to show the abbreviated month names.\n",
    "\n",
    "ax.xaxis.set_major_locator(lctr) and ax.xaxis.set_major_formatter(frmt): These lines set the x-axis major tick locator and formatter to show the month names.\n",
    "\n",
    "ax.legend(): This adds a legend to the plot using the labels specified in the plot function calls.\n",
    "\n",
    "plt.xticks(rotation=70): This rotates the x-axis tick labels by 70 degrees for better visibility.\n",
    "\n",
    "plt.tight_layout(): This adjusts the layout of the plot to ensure all components fit well.\n",
    "\n",
    "plt.show(): This displays the plot."
   ]
  },
  {
   "cell_type": "code",
   "execution_count": 109,
   "id": "22576f17",
   "metadata": {},
   "outputs": [
    {
     "name": "stderr",
     "output_type": "stream",
     "text": [
      "No artists with labels found to put in legend.  Note that artists whose label start with an underscore are ignored when legend() is called with no argument.\n"
     ]
    },
    {
     "name": "stdout",
     "output_type": "stream",
     "text": [
      "Requirement already satisfied: mpl_finance in e:\\python\\envs\\trading\\lib\\site-packages (0.10.1)\n",
      "Requirement already satisfied: matplotlib in e:\\python\\envs\\trading\\lib\\site-packages (from mpl_finance) (3.7.1)\n",
      "Requirement already satisfied: contourpy>=1.0.1 in e:\\python\\envs\\trading\\lib\\site-packages (from matplotlib->mpl_finance) (1.0.5)\n",
      "Requirement already satisfied: cycler>=0.10 in e:\\python\\envs\\trading\\lib\\site-packages (from matplotlib->mpl_finance) (0.11.0)\n",
      "Requirement already satisfied: fonttools>=4.22.0 in e:\\python\\envs\\trading\\lib\\site-packages (from matplotlib->mpl_finance) (4.25.0)\n",
      "Requirement already satisfied: kiwisolver>=1.0.1 in e:\\python\\envs\\trading\\lib\\site-packages (from matplotlib->mpl_finance) (1.4.4)\n",
      "Requirement already satisfied: numpy>=1.20 in e:\\python\\envs\\trading\\lib\\site-packages (from matplotlib->mpl_finance) (1.24.2)\n",
      "Requirement already satisfied: packaging>=20.0 in e:\\python\\envs\\trading\\lib\\site-packages (from matplotlib->mpl_finance) (23.0)\n",
      "Requirement already satisfied: pillow>=6.2.0 in e:\\python\\envs\\trading\\lib\\site-packages (from matplotlib->mpl_finance) (9.4.0)\n",
      "Requirement already satisfied: pyparsing>=2.3.1 in e:\\python\\envs\\trading\\lib\\site-packages (from matplotlib->mpl_finance) (3.0.9)\n",
      "Requirement already satisfied: python-dateutil>=2.7 in e:\\python\\envs\\trading\\lib\\site-packages (from matplotlib->mpl_finance) (2.8.2)\n",
      "Requirement already satisfied: importlib-resources>=3.2.0 in e:\\python\\envs\\trading\\lib\\site-packages (from matplotlib->mpl_finance) (5.2.0)\n",
      "Requirement already satisfied: zipp>=3.1.0 in e:\\python\\envs\\trading\\lib\\site-packages (from importlib-resources>=3.2.0->matplotlib->mpl_finance) (3.11.0)\n",
      "Requirement already satisfied: six>=1.5 in e:\\python\\envs\\trading\\lib\\site-packages (from python-dateutil>=2.7->matplotlib->mpl_finance) (1.16.0)\n"
     ]
    },
    {
     "data": {
      "image/png": "[encoded data removed]",
      "text/plain": [
       "<Figure size 1600x800 with 1 Axes>"
      ]
     },
     "metadata": {},
     "output_type": "display_data"
    }
   ],
   "source": [
    "# Candle stick charts\n",
    "!pip install mpl_finance\n",
    "from mpl_finance import candlestick2_ohlc\n",
    "\n",
    "fig, ax = plt.subplots()\n",
    "\n",
    "fig.subplots_adjust(bottom = 0.3)\n",
    "\n",
    "fig.set_figwidth(16)\n",
    "fig.set_figheight(8)\n",
    "\n",
    "lctr = MonthLocator()\n",
    "frmt = DateFormatter('%b')\n",
    "\n",
    "ax.xaxis.set_major_locator(lctr)\n",
    "ax.xaxis.set_major_formatter(frmt)\n",
    "\n",
    "candlestick2_ohlc(ax, opens = df.open,\n",
    "                 closes = df.close,\n",
    "                 highs = df.high,\n",
    "                 lows = df.low,\n",
    "                 width = 0.8,\n",
    "                 colorup = 'r',\n",
    "                 colordown = 'k')\n",
    "plt.xlabel('Open')\n",
    "plt.ylabel('Close')\n",
    "plt.xticks(rotation = 70)\n",
    "plt.tight_layout()\n",
    "plt.legend()\n",
    "plt.show()"
   ]
  },
  {
   "cell_type": "code",
   "execution_count": null,
   "id": "85d2b2d8",
   "metadata": {},
   "outputs": [],
   "source": []
  }
 ],
 "metadata": {
  "kernelspec": {
   "display_name": "Python 3 (ipykernel)",
   "language": "python",
   "name": "python3"
  },
  "language_info": {
   "codemirror_mode": {
    "name": "ipython",
    "version": 3
   },
   "file_extension": ".py",
   "mimetype": "text/x-python",
   "name": "python",
   "nbconvert_exporter": "python",
   "pygments_lexer": "ipython3",
   "version": "3.9.17"
  }
 },
 "nbformat": 4,
 "nbformat_minor": 5
}
